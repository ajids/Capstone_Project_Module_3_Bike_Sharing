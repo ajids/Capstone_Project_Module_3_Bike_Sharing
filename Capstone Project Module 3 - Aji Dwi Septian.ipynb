{
 "cells": [
  {
   "cell_type": "markdown",
   "id": "8d6e2b8a",
   "metadata": {},
   "source": [
    "# **Bike Sharing (Capital Bikeshare)**"
   ]
  },
  {
   "cell_type": "markdown",
   "id": "981789e9",
   "metadata": {},
   "source": [
    "[Sumber data Bike Sharing](https://capitalbikeshare.com/system-data) \n",
    "\n",
    "## **Contents**\n",
    "\n",
    "1. Business Problem Understanding\n",
    "2. Data Understanding\n",
    "3. Data Preprocessing\n",
    "4. Modeling\n",
    "5. Conclusion\n",
    "6. Recommendation\n",
    "\n",
    "****"
   ]
  },
  {
   "cell_type": "markdown",
   "id": "557f674c",
   "metadata": {},
   "source": [
    "## Business Problem Understanding\n",
    "\n",
    "### Context\n",
    "\n",
    "*Capital Bikesharing* adalah sebuah jaringan layanan berbagi sepeda publik yang ada di beberapa kota di Amerika Serikat. Sistem ini memungkinkan pengguna untuk meminjam sepeda dari lokasi tertentu dan mengembalikan sepeda ke lokasi lain setelah mereka selesai menggunakannya. Capital Bikeshare biasanya menggunakan stasiun sepeda dan teknologi pemantauan untuk memastikan bahwa sepeda dapat dipinjam dan dikembalikan dengan mudah.\n",
    "\n",
    "*Capital Bikeshare* dibuat untuk menawarkan alternatif transportasi yang lebih ramah lingkungan dan efisien bagi warga kota dan turis. Sistem ini juga menyediakan opsi yang menyenangkan dan sehat bagi para penggunanya. Capital Bikeshare umumnya tersedia 24 jam sehari, 7 hari seminggu, dan memerlukan biaya sewa yang rendah.\n",
    "\n",
    "Project ini menggunakan data kondisi cuaca, musim, tanggal, jam, dan jumlah penyewaan sepeda. Analisis data ini memungkinkan untuk mengkaji hubungan antar fitur dan menemukan metode untuk memprediksi jumlah sepeda yang diperlukan pada kondisi tertentu."
   ]
  },
  {
   "cell_type": "markdown",
   "id": "b0e35ff7",
   "metadata": {},
   "source": [
    "### Problem Statement\n",
    "\n",
    "Dataset yang digunakan menunjukkan adanya tantangan bagi perusahaan penyedia layanan Bike sharing yaitu bagaimana menentukan jumlah unit sepeda yang perlu disiapkan pada waktu tertentu kedepannya. Ini sangat penting untuk memastikan bahwa pelanggan memiliki akses ke sepeda yang mereka butuhkan di kemudian hari."
   ]
  },
  {
   "cell_type": "markdown",
   "id": "0fe859c8",
   "metadata": {},
   "source": [
    "### Goals\n",
    "\n",
    "Untuk mengatasi masalah tersebut, dibutuhkan sebuah model ataupun alat bantu yang dapat memperkirakan jumlah penyewaan sepeda pada kondisi dan waktu tertentu, sehingga penyedia layanan Bike sharing dapat menentukan jumlah unit sepeda yang harus disiapkan di kemudian hari."
   ]
  },
  {
   "cell_type": "markdown",
   "id": "b005e18a",
   "metadata": {},
   "source": [
    "### Analytic Approach\n",
    "\n",
    "Untuk mencapai tujuan yang telah dijabarkan sebelumnya, perlu analisis data untuk dapat menemukan pola dari fitur-fitur yang ada, yang membedakan satu kondisi dengan yang lainnya. Serta bagaimana tiap fitur tersebut mempengaruhi jumlah unit sepeda yang perlu tersedia di kemudian hari.\n",
    "\n",
    "Selanjutnya, kita akan membangun suatu model regresi yang akan membantu perusahaan untuk dapat menyediakan 'tool' prediksi dalam menentukan jumlah unit sepeda yang perlu disediakan oleh Capital Bikeshare, yang mana akan berguna untuk menjaga efisiensi *operational cost*."
   ]
  },
  {
   "cell_type": "markdown",
   "id": "59648777",
   "metadata": {},
   "source": [
    "### Metric Evaluation\n",
    "\n",
    "Untuk mengevaluasi kinerja model, tiga metrik yaitu MAE, MAPE, dan RMSE akan digunakan. MAE, MAPE, dan RMSE adalah tiga metrik yang digunakan untuk mengevaluasi kinerja suatu model pembelajaran mesin. Nilai yang semakin dekat dengan nol yang dihasilkan dari MAE, MAPE, dan RMSE menunjukkan bahwa model semakin akurat dalam memprediksi total penyewaan, berdasarkan batasan fitur yang digunakan.\n",
    "\n",
    "MAE (Mean Absolute Error) adalah rata-rata dari perbedaan absolut antara hasil aktual dan hasil prediksi. Ini adalah metrik yang sederhana dan menunjukkan seberapa besar kesalahan rata-rata yang dibuat oleh model.\n",
    "\n",
    "MAPE (Mean Absolute Percentage Error) adalah rata-rata dari presentase error yang dihasilkan oleh model. Ini mengukur kinerja model dalam hal error relatif.\n",
    "\n",
    "RMSE (Root Mean Squared Error) adalah akar dari rata-rata kuadrat perbedaan antara hasil aktual dan hasil prediksi. Ini adalah metrik yang memperhitungkan tingkat kesalahan yang lebih besar dan memiliki bobot yang lebih besar pada error yang lebih besar."
   ]
  },
  {
   "cell_type": "markdown",
   "id": "b652961d",
   "metadata": {},
   "source": [
    "## Data Understanding\n"
   ]
  },
  {
   "cell_type": "markdown",
   "id": "addb7c06",
   "metadata": {},
   "source": [
    "- Dataset merupakan data peminjaman sepeda di sistem ***Capital Bikeshare*** dalam rentang tahun 2011-2012.\n",
    "- Setiap baris data merepresentasikan informasi terkait waktu peminjaman, cuaca, dan musim yang sesuai.\n",
    "\n",
    "**Attributes Information**\n",
    "\n",
    "| **Attribute** | **Data Type** | **Description** |\n",
    "| --- | --- | --- |\n",
    "| dteday | Object | Date |\n",
    "| hum | Float | Normalized humidity (the values are divided to 100)|\n",
    "| weathersit | Integer | 1: Clear, Few clouds, Partly cloudy, Partly cloudy<br> 2: Mist + Cloudy, Mist + Broken clouds, Mist + Few clouds, Mist<br> 3: Light Snow, Light Rain + Thunderstorm + Scattered clouds, Light Rain + Scattered clouds<br> 4: Heavy Rain + Ice Pallets + Thunderstorm + Mist, Snow + Fog |\n",
    "| holiday | Integer | 0: Not holiday<br> 1: Holiday |\n",
    "| season | Integer | 1: Winter<br> 2: Spring<br> 3: Summer<br> 4: Fall |\n",
    "| atemp | Float | \"Feels like\" temperature in Celsius |\n",
    "| temp | Float | Normalized temperature in Celsius |\n",
    "| hr | Integer | Hour (0 to 23) |\n",
    "| casual | Integer | Count of casual users |\n",
    "| registered | Integer | Count of registered users |\n",
    "| cnt | Integer | Count of total rental bikes including both casual and registered users|"
   ]
  },
  {
   "cell_type": "code",
   "execution_count": 1,
   "id": "2bffae80",
   "metadata": {},
   "outputs": [],
   "source": [
    "# Import library yang dibutuhkan untuk eksplorasi dataset\n",
    "import pandas as pd \n",
    "import numpy as np\n",
    "import matplotlib.pyplot as plt\n",
    "import seaborn as sns\n",
    "\n",
    "import warnings\n",
    "warnings.filterwarnings('ignore')\n",
    "\n",
    "# Import library untuk modeling\n",
    "from sklearn.model_selection import train_test_split, cross_val_score, RandomizedSearchCV, GridSearchCV, KFold\n",
    "\n",
    "import category_encoders as ce\n",
    "from sklearn.preprocessing import OneHotEncoder, OrdinalEncoder\n",
    "from sklearn.compose import ColumnTransformer\n",
    "from sklearn.pipeline import Pipeline\n",
    "\n",
    "from sklearn.linear_model import LinearRegression\n",
    "from sklearn.neighbors import KNeighborsRegressor\n",
    "from sklearn.tree import DecisionTreeRegressor\n",
    "from sklearn.ensemble import RandomForestRegressor\n",
    "from xgboost.sklearn import XGBRegressor\n",
    "from sklearn.compose import TransformedTargetRegressor\n",
    "\n",
    "from sklearn.preprocessing import StandardScaler, MinMaxScaler\n",
    "\n",
    "from sklearn.metrics import r2_score, mean_squared_error, mean_absolute_error, mean_absolute_percentage_error"
   ]
  },
  {
   "cell_type": "code",
   "execution_count": 2,
   "id": "da58100a",
   "metadata": {},
   "outputs": [
    {
     "data": {
      "text/html": [
       "<div>\n",
       "<style scoped>\n",
       "    .dataframe tbody tr th:only-of-type {\n",
       "        vertical-align: middle;\n",
       "    }\n",
       "\n",
       "    .dataframe tbody tr th {\n",
       "        vertical-align: top;\n",
       "    }\n",
       "\n",
       "    .dataframe thead th {\n",
       "        text-align: right;\n",
       "    }\n",
       "</style>\n",
       "<table border=\"1\" class=\"dataframe\">\n",
       "  <thead>\n",
       "    <tr style=\"text-align: right;\">\n",
       "      <th></th>\n",
       "      <th>dteday</th>\n",
       "      <th>hum</th>\n",
       "      <th>weathersit</th>\n",
       "      <th>holiday</th>\n",
       "      <th>season</th>\n",
       "      <th>atemp</th>\n",
       "      <th>temp</th>\n",
       "      <th>hr</th>\n",
       "      <th>casual</th>\n",
       "      <th>registered</th>\n",
       "      <th>cnt</th>\n",
       "    </tr>\n",
       "  </thead>\n",
       "  <tbody>\n",
       "    <tr>\n",
       "      <th>0</th>\n",
       "      <td>2011-12-09</td>\n",
       "      <td>0.62</td>\n",
       "      <td>1</td>\n",
       "      <td>0</td>\n",
       "      <td>4</td>\n",
       "      <td>0.3485</td>\n",
       "      <td>0.36</td>\n",
       "      <td>16</td>\n",
       "      <td>24</td>\n",
       "      <td>226</td>\n",
       "      <td>250</td>\n",
       "    </tr>\n",
       "    <tr>\n",
       "      <th>1</th>\n",
       "      <td>2012-06-17</td>\n",
       "      <td>0.64</td>\n",
       "      <td>1</td>\n",
       "      <td>0</td>\n",
       "      <td>2</td>\n",
       "      <td>0.5152</td>\n",
       "      <td>0.54</td>\n",
       "      <td>4</td>\n",
       "      <td>2</td>\n",
       "      <td>16</td>\n",
       "      <td>18</td>\n",
       "    </tr>\n",
       "    <tr>\n",
       "      <th>2</th>\n",
       "      <td>2011-06-15</td>\n",
       "      <td>0.53</td>\n",
       "      <td>1</td>\n",
       "      <td>0</td>\n",
       "      <td>2</td>\n",
       "      <td>0.6212</td>\n",
       "      <td>0.62</td>\n",
       "      <td>23</td>\n",
       "      <td>17</td>\n",
       "      <td>90</td>\n",
       "      <td>107</td>\n",
       "    </tr>\n",
       "    <tr>\n",
       "      <th>3</th>\n",
       "      <td>2012-03-31</td>\n",
       "      <td>0.87</td>\n",
       "      <td>2</td>\n",
       "      <td>0</td>\n",
       "      <td>2</td>\n",
       "      <td>0.3485</td>\n",
       "      <td>0.36</td>\n",
       "      <td>8</td>\n",
       "      <td>19</td>\n",
       "      <td>126</td>\n",
       "      <td>145</td>\n",
       "    </tr>\n",
       "    <tr>\n",
       "      <th>4</th>\n",
       "      <td>2012-07-31</td>\n",
       "      <td>0.55</td>\n",
       "      <td>1</td>\n",
       "      <td>0</td>\n",
       "      <td>3</td>\n",
       "      <td>0.6970</td>\n",
       "      <td>0.76</td>\n",
       "      <td>18</td>\n",
       "      <td>99</td>\n",
       "      <td>758</td>\n",
       "      <td>857</td>\n",
       "    </tr>\n",
       "  </tbody>\n",
       "</table>\n",
       "</div>"
      ],
      "text/plain": [
       "       dteday   hum  weathersit  holiday  season   atemp  temp  hr  casual  \\\n",
       "0  2011-12-09  0.62           1        0       4  0.3485  0.36  16      24   \n",
       "1  2012-06-17  0.64           1        0       2  0.5152  0.54   4       2   \n",
       "2  2011-06-15  0.53           1        0       2  0.6212  0.62  23      17   \n",
       "3  2012-03-31  0.87           2        0       2  0.3485  0.36   8      19   \n",
       "4  2012-07-31  0.55           1        0       3  0.6970  0.76  18      99   \n",
       "\n",
       "   registered  cnt  \n",
       "0         226  250  \n",
       "1          16   18  \n",
       "2          90  107  \n",
       "3         126  145  \n",
       "4         758  857  "
      ]
     },
     "execution_count": 2,
     "metadata": {},
     "output_type": "execute_result"
    }
   ],
   "source": [
    "# Load dataset\n",
    "df = pd.read_csv('data_bike_sharing.csv')\n",
    "df.head()"
   ]
  },
  {
   "cell_type": "markdown",
   "id": "deace48f",
   "metadata": {},
   "source": [
    "### EDA (Exploratory Data Analysis)"
   ]
  },
  {
   "cell_type": "code",
   "execution_count": 3,
   "id": "682a38d5",
   "metadata": {},
   "outputs": [
    {
     "name": "stdout",
     "output_type": "stream",
     "text": [
      "<class 'pandas.core.frame.DataFrame'>\n",
      "RangeIndex: 12165 entries, 0 to 12164\n",
      "Data columns (total 11 columns):\n",
      " #   Column      Non-Null Count  Dtype  \n",
      "---  ------      --------------  -----  \n",
      " 0   dteday      12165 non-null  object \n",
      " 1   hum         12165 non-null  float64\n",
      " 2   weathersit  12165 non-null  int64  \n",
      " 3   holiday     12165 non-null  int64  \n",
      " 4   season      12165 non-null  int64  \n",
      " 5   atemp       12165 non-null  float64\n",
      " 6   temp        12165 non-null  float64\n",
      " 7   hr          12165 non-null  int64  \n",
      " 8   casual      12165 non-null  int64  \n",
      " 9   registered  12165 non-null  int64  \n",
      " 10  cnt         12165 non-null  int64  \n",
      "dtypes: float64(3), int64(7), object(1)\n",
      "memory usage: 1.0+ MB\n"
     ]
    }
   ],
   "source": [
    "df.info()"
   ]
  },
  {
   "cell_type": "code",
   "execution_count": 4,
   "id": "b45e1713",
   "metadata": {},
   "outputs": [
    {
     "data": {
      "image/png": "[encoded data removed]",
      "text/plain": [
       "<Figure size 1080x720 with 4 Axes>"
      ]
     },
     "metadata": {
      "needs_background": "light"
     },
     "output_type": "display_data"
    }
   ],
   "source": [
    "plt.figure(figsize = (15,10))\n",
    "plt.subplot(2,2,1)\n",
    "ax = sns.countplot(df['holiday'])\n",
    "ax.bar_label(ax.containers[0])\n",
    "plt.title('Jumlah sewa di hari libur', size = 12)\n",
    "\n",
    "plt.subplot(2,2,2)\n",
    "ax = sns.countplot(df['season'])\n",
    "ax.bar_label(ax.containers[0])\n",
    "plt.title('Jumlah sewa di tiap musim', size = 12)\n",
    "\n",
    "plt.subplot(2,2,3)\n",
    "ax = sns.countplot(df['weathersit'])\n",
    "ax.bar_label(ax.containers[0])\n",
    "plt.title('Jumlah sewa berdasarkan cuaca', size = 12)\n",
    "\n",
    "plt.subplot(2,2,4)\n",
    "sns.lineplot(data=df, x='hr', y='cnt', marker='o')\n",
    "plt.title('Jumlah sewa berdasarkan jam', size = 12)\n",
    "\n",
    "plt.show()"
   ]
  },
  {
   "cell_type": "markdown",
   "id": "24fa693e",
   "metadata": {},
   "source": [
    "Dari 12165 data yang tersedia, sebanyak 11803 data diperoleh pada hari kerja dan 362 data pada hari libur. Season fall menunjukkan tingkat persewaan tertinggi, diikuti oleh summer, spring, dan winter. Sepeda sering disewa saat cuaca cerah hingga berawan, namun sangat sedikit disewa saat cuaca buruk seperti hujan deras, bersalju, badai, dan berkabut. Jam efektif persewaan adalah antara jam 6 hingga 23, dan sering terjadi pada pukul 8, 12, 16, 17, 18, dan 19."
   ]
  },
  {
   "cell_type": "code",
   "execution_count": 5,
   "id": "9f3bac2d",
   "metadata": {},
   "outputs": [
    {
     "data": {
      "image/png": "[encoded data removed]",
      "text/plain": [
       "<Figure size 1296x504 with 10 Axes>"
      ]
     },
     "metadata": {
      "needs_background": "light"
     },
     "output_type": "display_data"
    }
   ],
   "source": [
    "# Histogram data numeric\n",
    "\n",
    "numerical = ['hum', 'atemp', 'temp', 'weathersit', 'season']\n",
    "df[numerical].hist(bins=15, figsize=(18, 7), layout=(2, 5));"
   ]
  },
  {
   "cell_type": "code",
   "execution_count": 6,
   "id": "0e235863",
   "metadata": {},
   "outputs": [
    {
     "data": {
      "image/png": "[encoded data removed]",
      "text/plain": [
       "<Figure size 432x288 with 2 Axes>"
      ]
     },
     "metadata": {
      "needs_background": "light"
     },
     "output_type": "display_data"
    }
   ],
   "source": [
    "sns.heatmap(df[numerical].corr(), annot=True, cmap='PuBu')\n",
    "plt.show()"
   ]
  },
  {
   "cell_type": "code",
   "execution_count": 7,
   "id": "aa7746a2",
   "metadata": {},
   "outputs": [
    {
     "data": {
      "text/plain": [
       "0.0211887217427046"
      ]
     },
     "execution_count": 7,
     "metadata": {},
     "output_type": "execute_result"
    }
   ],
   "source": [
    "(df['temp']-df['atemp']).mean()"
   ]
  },
  {
   "cell_type": "markdown",
   "id": "eb1bc75d",
   "metadata": {},
   "source": [
    "Fitur temp dan atemp memiliki hubungan yang sangat erat. Kedua fitur ini mewakili suhu pada waktu yang sama, sehingga hanya perlu menggunakan salah satu saja. Fitur Humidity juga memiliki korelasi yang cukup baik dengan situasi cuaca."
   ]
  },
  {
   "cell_type": "markdown",
   "id": "f0381ce4",
   "metadata": {},
   "source": [
    "## Data Preprocessing"
   ]
  },
  {
   "cell_type": "markdown",
   "id": "ddae7114",
   "metadata": {},
   "source": [
    "Dalam tahap preprocessing data, dilakukan pembersihan data dan dataset yang bersih akan diteruskan untuk analisis selanjutnya. Langkah-langkah yang akan dilakukan dalam tahap ini yaitu: \n",
    "\n",
    "   1. menghapus data duplikat\n",
    "   2. memperbaiki tipe data yang salah \n",
    "   3. membuang fitur yang tidak relevan\n",
    "   4. menambahkan fitur baru yang dianggap penting \n",
    "   5. mengatasi nilai yang hilang dengan cara yang sesuai \n",
    "   6. mengatasi outlier. \n",
    "    \n",
    "Proses preprocessing dan feature engineering akan menggunakan duplikat dari dataframe yang digunakan sebelumnya."
   ]
  },
  {
   "cell_type": "code",
   "execution_count": 8,
   "id": "b484e390",
   "metadata": {},
   "outputs": [],
   "source": [
    "# Membuat duplikasi dataframe\n",
    "dfModel = df.copy()"
   ]
  },
  {
   "cell_type": "code",
   "execution_count": 9,
   "id": "056a6bb4",
   "metadata": {},
   "outputs": [],
   "source": [
    "# Ekstrasi fitur dteday untuk mendapatkan bulan, tahun, dan hari\n",
    "month=[]\n",
    "year=[]\n",
    "dayname=[]\n",
    "dfModel['month'] = pd.to_datetime(dfModel['dteday']).dt.month\n",
    "dfModel['year'] = pd.to_datetime(dfModel['dteday']).dt.year\n",
    "dfModel['dayname'] = pd.to_datetime(dfModel['dteday']).dt.day_of_week"
   ]
  },
  {
   "cell_type": "code",
   "execution_count": 10,
   "id": "429aa855",
   "metadata": {},
   "outputs": [
    {
     "data": {
      "text/html": [
       "<div>\n",
       "<style scoped>\n",
       "    .dataframe tbody tr th:only-of-type {\n",
       "        vertical-align: middle;\n",
       "    }\n",
       "\n",
       "    .dataframe tbody tr th {\n",
       "        vertical-align: top;\n",
       "    }\n",
       "\n",
       "    .dataframe thead th {\n",
       "        text-align: right;\n",
       "    }\n",
       "</style>\n",
       "<table border=\"1\" class=\"dataframe\">\n",
       "  <thead>\n",
       "    <tr style=\"text-align: right;\">\n",
       "      <th></th>\n",
       "      <th>dataFeatures</th>\n",
       "      <th>dataType</th>\n",
       "      <th>null</th>\n",
       "      <th>nullPct</th>\n",
       "      <th>unique</th>\n",
       "      <th>uniqueSample</th>\n",
       "    </tr>\n",
       "  </thead>\n",
       "  <tbody>\n",
       "    <tr>\n",
       "      <th>0</th>\n",
       "      <td>dteday</td>\n",
       "      <td>object</td>\n",
       "      <td>0</td>\n",
       "      <td>0.0</td>\n",
       "      <td>731</td>\n",
       "      <td>[2012-05-12, 2012-03-29]</td>\n",
       "    </tr>\n",
       "    <tr>\n",
       "      <th>1</th>\n",
       "      <td>hum</td>\n",
       "      <td>float64</td>\n",
       "      <td>0</td>\n",
       "      <td>0.0</td>\n",
       "      <td>89</td>\n",
       "      <td>[0.67, 0.88]</td>\n",
       "    </tr>\n",
       "    <tr>\n",
       "      <th>2</th>\n",
       "      <td>weathersit</td>\n",
       "      <td>int64</td>\n",
       "      <td>0</td>\n",
       "      <td>0.0</td>\n",
       "      <td>4</td>\n",
       "      <td>[3, 4]</td>\n",
       "    </tr>\n",
       "    <tr>\n",
       "      <th>3</th>\n",
       "      <td>holiday</td>\n",
       "      <td>int64</td>\n",
       "      <td>0</td>\n",
       "      <td>0.0</td>\n",
       "      <td>2</td>\n",
       "      <td>[1, 0]</td>\n",
       "    </tr>\n",
       "    <tr>\n",
       "      <th>4</th>\n",
       "      <td>season</td>\n",
       "      <td>int64</td>\n",
       "      <td>0</td>\n",
       "      <td>0.0</td>\n",
       "      <td>4</td>\n",
       "      <td>[2, 4]</td>\n",
       "    </tr>\n",
       "    <tr>\n",
       "      <th>5</th>\n",
       "      <td>atemp</td>\n",
       "      <td>float64</td>\n",
       "      <td>0</td>\n",
       "      <td>0.0</td>\n",
       "      <td>65</td>\n",
       "      <td>[0.1515, 0.5606]</td>\n",
       "    </tr>\n",
       "    <tr>\n",
       "      <th>6</th>\n",
       "      <td>temp</td>\n",
       "      <td>float64</td>\n",
       "      <td>0</td>\n",
       "      <td>0.0</td>\n",
       "      <td>50</td>\n",
       "      <td>[0.32, 0.9]</td>\n",
       "    </tr>\n",
       "    <tr>\n",
       "      <th>7</th>\n",
       "      <td>hr</td>\n",
       "      <td>int64</td>\n",
       "      <td>0</td>\n",
       "      <td>0.0</td>\n",
       "      <td>24</td>\n",
       "      <td>[12, 5]</td>\n",
       "    </tr>\n",
       "    <tr>\n",
       "      <th>8</th>\n",
       "      <td>casual</td>\n",
       "      <td>int64</td>\n",
       "      <td>0</td>\n",
       "      <td>0.0</td>\n",
       "      <td>305</td>\n",
       "      <td>[107, 152]</td>\n",
       "    </tr>\n",
       "    <tr>\n",
       "      <th>9</th>\n",
       "      <td>registered</td>\n",
       "      <td>int64</td>\n",
       "      <td>0</td>\n",
       "      <td>0.0</td>\n",
       "      <td>742</td>\n",
       "      <td>[312, 355]</td>\n",
       "    </tr>\n",
       "    <tr>\n",
       "      <th>10</th>\n",
       "      <td>cnt</td>\n",
       "      <td>int64</td>\n",
       "      <td>0</td>\n",
       "      <td>0.0</td>\n",
       "      <td>830</td>\n",
       "      <td>[797, 721]</td>\n",
       "    </tr>\n",
       "    <tr>\n",
       "      <th>11</th>\n",
       "      <td>month</td>\n",
       "      <td>int64</td>\n",
       "      <td>0</td>\n",
       "      <td>0.0</td>\n",
       "      <td>12</td>\n",
       "      <td>[6, 2]</td>\n",
       "    </tr>\n",
       "    <tr>\n",
       "      <th>12</th>\n",
       "      <td>year</td>\n",
       "      <td>int64</td>\n",
       "      <td>0</td>\n",
       "      <td>0.0</td>\n",
       "      <td>2</td>\n",
       "      <td>[2011, 2012]</td>\n",
       "    </tr>\n",
       "    <tr>\n",
       "      <th>13</th>\n",
       "      <td>dayname</td>\n",
       "      <td>int64</td>\n",
       "      <td>0</td>\n",
       "      <td>0.0</td>\n",
       "      <td>7</td>\n",
       "      <td>[2, 4]</td>\n",
       "    </tr>\n",
       "  </tbody>\n",
       "</table>\n",
       "</div>"
      ],
      "text/plain": [
       "   dataFeatures dataType  null  nullPct  unique              uniqueSample\n",
       "0        dteday   object     0      0.0     731  [2012-05-12, 2012-03-29]\n",
       "1           hum  float64     0      0.0      89              [0.67, 0.88]\n",
       "2    weathersit    int64     0      0.0       4                    [3, 4]\n",
       "3       holiday    int64     0      0.0       2                    [1, 0]\n",
       "4        season    int64     0      0.0       4                    [2, 4]\n",
       "5         atemp  float64     0      0.0      65          [0.1515, 0.5606]\n",
       "6          temp  float64     0      0.0      50               [0.32, 0.9]\n",
       "7            hr    int64     0      0.0      24                   [12, 5]\n",
       "8        casual    int64     0      0.0     305                [107, 152]\n",
       "9    registered    int64     0      0.0     742                [312, 355]\n",
       "10          cnt    int64     0      0.0     830                [797, 721]\n",
       "11        month    int64     0      0.0      12                    [6, 2]\n",
       "12         year    int64     0      0.0       2              [2011, 2012]\n",
       "13      dayname    int64     0      0.0       7                    [2, 4]"
      ]
     },
     "execution_count": 10,
     "metadata": {},
     "output_type": "execute_result"
    }
   ],
   "source": [
    "# Checking detail setiap fitur\n",
    "listItem = []\n",
    "\n",
    "for col in dfModel.columns:\n",
    "    listItem.append([\n",
    "        col, \n",
    "        dfModel[col].dtype, \n",
    "        dfModel[col].isna().sum(), \n",
    "        round((dfModel[col].isna().sum()/len(dfModel[col]))*100, 2),\n",
    "        dfModel[col].nunique(), \n",
    "        list(dfModel[col].drop_duplicates().sample(2).values)\n",
    "    ]);\n",
    "\n",
    "dfModelDesc = pd.DataFrame(columns=['dataFeatures', 'dataType', 'null', 'nullPct', 'unique', 'uniqueSample'],\n",
    "                     data=listItem)\n",
    "dfModelDesc"
   ]
  },
  {
   "cell_type": "code",
   "execution_count": 11,
   "id": "b75f0a33",
   "metadata": {},
   "outputs": [
    {
     "data": {
      "text/html": [
       "<div>\n",
       "<style scoped>\n",
       "    .dataframe tbody tr th:only-of-type {\n",
       "        vertical-align: middle;\n",
       "    }\n",
       "\n",
       "    .dataframe tbody tr th {\n",
       "        vertical-align: top;\n",
       "    }\n",
       "\n",
       "    .dataframe thead th {\n",
       "        text-align: right;\n",
       "    }\n",
       "</style>\n",
       "<table border=\"1\" class=\"dataframe\">\n",
       "  <thead>\n",
       "    <tr style=\"text-align: right;\">\n",
       "      <th></th>\n",
       "      <th>dteday</th>\n",
       "      <th>hum</th>\n",
       "      <th>weathersit</th>\n",
       "      <th>holiday</th>\n",
       "      <th>season</th>\n",
       "      <th>atemp</th>\n",
       "      <th>temp</th>\n",
       "      <th>hr</th>\n",
       "      <th>casual</th>\n",
       "      <th>registered</th>\n",
       "      <th>cnt</th>\n",
       "      <th>month</th>\n",
       "      <th>year</th>\n",
       "      <th>dayname</th>\n",
       "    </tr>\n",
       "  </thead>\n",
       "  <tbody>\n",
       "    <tr>\n",
       "      <th>0</th>\n",
       "      <td>2011-12-09</td>\n",
       "      <td>0.62</td>\n",
       "      <td>1</td>\n",
       "      <td>0</td>\n",
       "      <td>4</td>\n",
       "      <td>0.3485</td>\n",
       "      <td>0.36</td>\n",
       "      <td>16</td>\n",
       "      <td>24</td>\n",
       "      <td>226</td>\n",
       "      <td>250</td>\n",
       "      <td>12</td>\n",
       "      <td>2011</td>\n",
       "      <td>4</td>\n",
       "    </tr>\n",
       "    <tr>\n",
       "      <th>1</th>\n",
       "      <td>2012-06-17</td>\n",
       "      <td>0.64</td>\n",
       "      <td>1</td>\n",
       "      <td>0</td>\n",
       "      <td>2</td>\n",
       "      <td>0.5152</td>\n",
       "      <td>0.54</td>\n",
       "      <td>4</td>\n",
       "      <td>2</td>\n",
       "      <td>16</td>\n",
       "      <td>18</td>\n",
       "      <td>6</td>\n",
       "      <td>2012</td>\n",
       "      <td>6</td>\n",
       "    </tr>\n",
       "    <tr>\n",
       "      <th>2</th>\n",
       "      <td>2011-06-15</td>\n",
       "      <td>0.53</td>\n",
       "      <td>1</td>\n",
       "      <td>0</td>\n",
       "      <td>2</td>\n",
       "      <td>0.6212</td>\n",
       "      <td>0.62</td>\n",
       "      <td>23</td>\n",
       "      <td>17</td>\n",
       "      <td>90</td>\n",
       "      <td>107</td>\n",
       "      <td>6</td>\n",
       "      <td>2011</td>\n",
       "      <td>2</td>\n",
       "    </tr>\n",
       "    <tr>\n",
       "      <th>3</th>\n",
       "      <td>2012-03-31</td>\n",
       "      <td>0.87</td>\n",
       "      <td>2</td>\n",
       "      <td>0</td>\n",
       "      <td>2</td>\n",
       "      <td>0.3485</td>\n",
       "      <td>0.36</td>\n",
       "      <td>8</td>\n",
       "      <td>19</td>\n",
       "      <td>126</td>\n",
       "      <td>145</td>\n",
       "      <td>3</td>\n",
       "      <td>2012</td>\n",
       "      <td>5</td>\n",
       "    </tr>\n",
       "    <tr>\n",
       "      <th>4</th>\n",
       "      <td>2012-07-31</td>\n",
       "      <td>0.55</td>\n",
       "      <td>1</td>\n",
       "      <td>0</td>\n",
       "      <td>3</td>\n",
       "      <td>0.6970</td>\n",
       "      <td>0.76</td>\n",
       "      <td>18</td>\n",
       "      <td>99</td>\n",
       "      <td>758</td>\n",
       "      <td>857</td>\n",
       "      <td>7</td>\n",
       "      <td>2012</td>\n",
       "      <td>1</td>\n",
       "    </tr>\n",
       "  </tbody>\n",
       "</table>\n",
       "</div>"
      ],
      "text/plain": [
       "       dteday   hum  weathersit  holiday  season   atemp  temp  hr  casual  \\\n",
       "0  2011-12-09  0.62           1        0       4  0.3485  0.36  16      24   \n",
       "1  2012-06-17  0.64           1        0       2  0.5152  0.54   4       2   \n",
       "2  2011-06-15  0.53           1        0       2  0.6212  0.62  23      17   \n",
       "3  2012-03-31  0.87           2        0       2  0.3485  0.36   8      19   \n",
       "4  2012-07-31  0.55           1        0       3  0.6970  0.76  18      99   \n",
       "\n",
       "   registered  cnt  month  year  dayname  \n",
       "0         226  250     12  2011        4  \n",
       "1          16   18      6  2012        6  \n",
       "2          90  107      6  2011        2  \n",
       "3         126  145      3  2012        5  \n",
       "4         758  857      7  2012        1  "
      ]
     },
     "execution_count": 11,
     "metadata": {},
     "output_type": "execute_result"
    }
   ],
   "source": [
    "dfModel\n",
    "dfModel.head()"
   ]
  },
  {
   "cell_type": "markdown",
   "id": "a2d3d0f5",
   "metadata": {},
   "source": [
    "### Data Duplicate"
   ]
  },
  {
   "cell_type": "code",
   "execution_count": 12,
   "id": "375c1c69",
   "metadata": {},
   "outputs": [
    {
     "data": {
      "text/plain": [
       "0"
      ]
     },
     "execution_count": 12,
     "metadata": {},
     "output_type": "execute_result"
    }
   ],
   "source": [
    "# Cek data duplikat\n",
    "dfModel.duplicated().sum()"
   ]
  },
  {
   "cell_type": "markdown",
   "id": "c05fb49f",
   "metadata": {},
   "source": [
    "### Feature Dropped"
   ]
  },
  {
   "cell_type": "markdown",
   "id": "2136b137",
   "metadata": {},
   "source": [
    "Perlu mempertimbangkan hal-hal tertentu sebelum menghapus kolom atau fitur. Berikut adalah fitur yang akan dihapus beserta alasannya:\n",
    "\n",
    "   1. Melakukan drop pada fitur 'casual' dan 'registered' karena fokus pada total seluruh persewaan.\n",
    "   2. Drop fitur 'atemp' karena sudah ada fitur 'temp' dengan korelasi yang tinggi dalam merepresentasikan temperatur.\n",
    "   3. Drop fitur 'dteday' karena sudah dibuat fitur month, year, dan dayname dari fitur tersebut."
   ]
  },
  {
   "cell_type": "code",
   "execution_count": 13,
   "id": "9b40184e",
   "metadata": {},
   "outputs": [],
   "source": [
    "dfModel.drop(['casual', 'registered', 'atemp', 'dteday'], axis=1, inplace=True)"
   ]
  },
  {
   "cell_type": "markdown",
   "id": "9ce197ab",
   "metadata": {},
   "source": [
    "### Data Type dan Rename Columns"
   ]
  },
  {
   "cell_type": "code",
   "execution_count": 14,
   "id": "2746e1f2",
   "metadata": {},
   "outputs": [],
   "source": [
    "dfModel = dfModel.astype({\"weathersit\":'category', \"season\":'category', \"holiday\":'category'})\n",
    "dfModel.rename({\n",
    "    'hum' : 'Humidity',\n",
    "    'weathersit' : 'Weather',\n",
    "    'season' : 'Season',\n",
    "    'temp' : 'Temperature',\n",
    "    'hr' : 'Hour',\n",
    "    'cnt' : 'Count',\n",
    "    'month' : 'Month',\n",
    "    'year' : 'Year',\n",
    "    'dayname' : 'Day Name',\n",
    "    'holiday' : 'Holiday'\n",
    "} , inplace = True , axis = 1)"
   ]
  },
  {
   "cell_type": "code",
   "execution_count": 15,
   "id": "7d83bc0b",
   "metadata": {},
   "outputs": [
    {
     "data": {
      "text/html": [
       "<div>\n",
       "<style scoped>\n",
       "    .dataframe tbody tr th:only-of-type {\n",
       "        vertical-align: middle;\n",
       "    }\n",
       "\n",
       "    .dataframe tbody tr th {\n",
       "        vertical-align: top;\n",
       "    }\n",
       "\n",
       "    .dataframe thead th {\n",
       "        text-align: right;\n",
       "    }\n",
       "</style>\n",
       "<table border=\"1\" class=\"dataframe\">\n",
       "  <thead>\n",
       "    <tr style=\"text-align: right;\">\n",
       "      <th></th>\n",
       "      <th>Humidity</th>\n",
       "      <th>Weather</th>\n",
       "      <th>Holiday</th>\n",
       "      <th>Season</th>\n",
       "      <th>Temperature</th>\n",
       "      <th>Hour</th>\n",
       "      <th>Count</th>\n",
       "      <th>Month</th>\n",
       "      <th>Year</th>\n",
       "      <th>Day Name</th>\n",
       "    </tr>\n",
       "  </thead>\n",
       "  <tbody>\n",
       "    <tr>\n",
       "      <th>0</th>\n",
       "      <td>0.62</td>\n",
       "      <td>1</td>\n",
       "      <td>0</td>\n",
       "      <td>4</td>\n",
       "      <td>0.36</td>\n",
       "      <td>16</td>\n",
       "      <td>250</td>\n",
       "      <td>12</td>\n",
       "      <td>2011</td>\n",
       "      <td>4</td>\n",
       "    </tr>\n",
       "    <tr>\n",
       "      <th>1</th>\n",
       "      <td>0.64</td>\n",
       "      <td>1</td>\n",
       "      <td>0</td>\n",
       "      <td>2</td>\n",
       "      <td>0.54</td>\n",
       "      <td>4</td>\n",
       "      <td>18</td>\n",
       "      <td>6</td>\n",
       "      <td>2012</td>\n",
       "      <td>6</td>\n",
       "    </tr>\n",
       "    <tr>\n",
       "      <th>2</th>\n",
       "      <td>0.53</td>\n",
       "      <td>1</td>\n",
       "      <td>0</td>\n",
       "      <td>2</td>\n",
       "      <td>0.62</td>\n",
       "      <td>23</td>\n",
       "      <td>107</td>\n",
       "      <td>6</td>\n",
       "      <td>2011</td>\n",
       "      <td>2</td>\n",
       "    </tr>\n",
       "    <tr>\n",
       "      <th>3</th>\n",
       "      <td>0.87</td>\n",
       "      <td>2</td>\n",
       "      <td>0</td>\n",
       "      <td>2</td>\n",
       "      <td>0.36</td>\n",
       "      <td>8</td>\n",
       "      <td>145</td>\n",
       "      <td>3</td>\n",
       "      <td>2012</td>\n",
       "      <td>5</td>\n",
       "    </tr>\n",
       "    <tr>\n",
       "      <th>4</th>\n",
       "      <td>0.55</td>\n",
       "      <td>1</td>\n",
       "      <td>0</td>\n",
       "      <td>3</td>\n",
       "      <td>0.76</td>\n",
       "      <td>18</td>\n",
       "      <td>857</td>\n",
       "      <td>7</td>\n",
       "      <td>2012</td>\n",
       "      <td>1</td>\n",
       "    </tr>\n",
       "    <tr>\n",
       "      <th>...</th>\n",
       "      <td>...</td>\n",
       "      <td>...</td>\n",
       "      <td>...</td>\n",
       "      <td>...</td>\n",
       "      <td>...</td>\n",
       "      <td>...</td>\n",
       "      <td>...</td>\n",
       "      <td>...</td>\n",
       "      <td>...</td>\n",
       "      <td>...</td>\n",
       "    </tr>\n",
       "    <tr>\n",
       "      <th>12160</th>\n",
       "      <td>0.75</td>\n",
       "      <td>1</td>\n",
       "      <td>0</td>\n",
       "      <td>1</td>\n",
       "      <td>0.24</td>\n",
       "      <td>7</td>\n",
       "      <td>257</td>\n",
       "      <td>1</td>\n",
       "      <td>2012</td>\n",
       "      <td>2</td>\n",
       "    </tr>\n",
       "    <tr>\n",
       "      <th>12161</th>\n",
       "      <td>0.62</td>\n",
       "      <td>1</td>\n",
       "      <td>0</td>\n",
       "      <td>3</td>\n",
       "      <td>0.78</td>\n",
       "      <td>0</td>\n",
       "      <td>102</td>\n",
       "      <td>7</td>\n",
       "      <td>2012</td>\n",
       "      <td>4</td>\n",
       "    </tr>\n",
       "    <tr>\n",
       "      <th>12162</th>\n",
       "      <td>0.60</td>\n",
       "      <td>2</td>\n",
       "      <td>1</td>\n",
       "      <td>1</td>\n",
       "      <td>0.24</td>\n",
       "      <td>5</td>\n",
       "      <td>6</td>\n",
       "      <td>2</td>\n",
       "      <td>2012</td>\n",
       "      <td>0</td>\n",
       "    </tr>\n",
       "    <tr>\n",
       "      <th>12163</th>\n",
       "      <td>0.77</td>\n",
       "      <td>2</td>\n",
       "      <td>0</td>\n",
       "      <td>2</td>\n",
       "      <td>0.42</td>\n",
       "      <td>2</td>\n",
       "      <td>69</td>\n",
       "      <td>3</td>\n",
       "      <td>2012</td>\n",
       "      <td>5</td>\n",
       "    </tr>\n",
       "    <tr>\n",
       "      <th>12164</th>\n",
       "      <td>0.47</td>\n",
       "      <td>1</td>\n",
       "      <td>0</td>\n",
       "      <td>2</td>\n",
       "      <td>0.64</td>\n",
       "      <td>18</td>\n",
       "      <td>530</td>\n",
       "      <td>4</td>\n",
       "      <td>2011</td>\n",
       "      <td>3</td>\n",
       "    </tr>\n",
       "  </tbody>\n",
       "</table>\n",
       "<p>12165 rows × 10 columns</p>\n",
       "</div>"
      ],
      "text/plain": [
       "       Humidity Weather Holiday Season  Temperature  Hour  Count  Month  Year  \\\n",
       "0          0.62       1       0      4         0.36    16    250     12  2011   \n",
       "1          0.64       1       0      2         0.54     4     18      6  2012   \n",
       "2          0.53       1       0      2         0.62    23    107      6  2011   \n",
       "3          0.87       2       0      2         0.36     8    145      3  2012   \n",
       "4          0.55       1       0      3         0.76    18    857      7  2012   \n",
       "...         ...     ...     ...    ...          ...   ...    ...    ...   ...   \n",
       "12160      0.75       1       0      1         0.24     7    257      1  2012   \n",
       "12161      0.62       1       0      3         0.78     0    102      7  2012   \n",
       "12162      0.60       2       1      1         0.24     5      6      2  2012   \n",
       "12163      0.77       2       0      2         0.42     2     69      3  2012   \n",
       "12164      0.47       1       0      2         0.64    18    530      4  2011   \n",
       "\n",
       "       Day Name  \n",
       "0             4  \n",
       "1             6  \n",
       "2             2  \n",
       "3             5  \n",
       "4             1  \n",
       "...         ...  \n",
       "12160         2  \n",
       "12161         4  \n",
       "12162         0  \n",
       "12163         5  \n",
       "12164         3  \n",
       "\n",
       "[12165 rows x 10 columns]"
      ]
     },
     "execution_count": 15,
     "metadata": {},
     "output_type": "execute_result"
    }
   ],
   "source": [
    "dfModel"
   ]
  },
  {
   "cell_type": "code",
   "execution_count": 16,
   "id": "b17be438",
   "metadata": {},
   "outputs": [
    {
     "data": {
      "text/html": [
       "<div>\n",
       "<style scoped>\n",
       "    .dataframe tbody tr th:only-of-type {\n",
       "        vertical-align: middle;\n",
       "    }\n",
       "\n",
       "    .dataframe tbody tr th {\n",
       "        vertical-align: top;\n",
       "    }\n",
       "\n",
       "    .dataframe thead th {\n",
       "        text-align: right;\n",
       "    }\n",
       "</style>\n",
       "<table border=\"1\" class=\"dataframe\">\n",
       "  <thead>\n",
       "    <tr style=\"text-align: right;\">\n",
       "      <th></th>\n",
       "      <th>Humidity</th>\n",
       "      <th>Temperature</th>\n",
       "      <th>Hour</th>\n",
       "      <th>Count</th>\n",
       "      <th>Month</th>\n",
       "      <th>Year</th>\n",
       "      <th>Day Name</th>\n",
       "    </tr>\n",
       "  </thead>\n",
       "  <tbody>\n",
       "    <tr>\n",
       "      <th>count</th>\n",
       "      <td>12165.000000</td>\n",
       "      <td>12165.000000</td>\n",
       "      <td>12165.000000</td>\n",
       "      <td>12165.000000</td>\n",
       "      <td>12165.000000</td>\n",
       "      <td>12165.000000</td>\n",
       "      <td>12165.000000</td>\n",
       "    </tr>\n",
       "    <tr>\n",
       "      <th>mean</th>\n",
       "      <td>0.625451</td>\n",
       "      <td>0.498185</td>\n",
       "      <td>11.519770</td>\n",
       "      <td>189.271023</td>\n",
       "      <td>6.510974</td>\n",
       "      <td>2011.501932</td>\n",
       "      <td>3.005261</td>\n",
       "    </tr>\n",
       "    <tr>\n",
       "      <th>std</th>\n",
       "      <td>0.192102</td>\n",
       "      <td>0.192492</td>\n",
       "      <td>6.931872</td>\n",
       "      <td>181.223903</td>\n",
       "      <td>3.433995</td>\n",
       "      <td>0.500017</td>\n",
       "      <td>1.992993</td>\n",
       "    </tr>\n",
       "    <tr>\n",
       "      <th>min</th>\n",
       "      <td>0.000000</td>\n",
       "      <td>0.020000</td>\n",
       "      <td>0.000000</td>\n",
       "      <td>1.000000</td>\n",
       "      <td>1.000000</td>\n",
       "      <td>2011.000000</td>\n",
       "      <td>0.000000</td>\n",
       "    </tr>\n",
       "    <tr>\n",
       "      <th>25%</th>\n",
       "      <td>0.470000</td>\n",
       "      <td>0.340000</td>\n",
       "      <td>6.000000</td>\n",
       "      <td>40.000000</td>\n",
       "      <td>4.000000</td>\n",
       "      <td>2011.000000</td>\n",
       "      <td>1.000000</td>\n",
       "    </tr>\n",
       "    <tr>\n",
       "      <th>50%</th>\n",
       "      <td>0.620000</td>\n",
       "      <td>0.500000</td>\n",
       "      <td>12.000000</td>\n",
       "      <td>142.000000</td>\n",
       "      <td>7.000000</td>\n",
       "      <td>2012.000000</td>\n",
       "      <td>3.000000</td>\n",
       "    </tr>\n",
       "    <tr>\n",
       "      <th>75%</th>\n",
       "      <td>0.780000</td>\n",
       "      <td>0.660000</td>\n",
       "      <td>18.000000</td>\n",
       "      <td>282.000000</td>\n",
       "      <td>9.000000</td>\n",
       "      <td>2012.000000</td>\n",
       "      <td>5.000000</td>\n",
       "    </tr>\n",
       "    <tr>\n",
       "      <th>max</th>\n",
       "      <td>1.000000</td>\n",
       "      <td>1.000000</td>\n",
       "      <td>23.000000</td>\n",
       "      <td>970.000000</td>\n",
       "      <td>12.000000</td>\n",
       "      <td>2012.000000</td>\n",
       "      <td>6.000000</td>\n",
       "    </tr>\n",
       "  </tbody>\n",
       "</table>\n",
       "</div>"
      ],
      "text/plain": [
       "           Humidity   Temperature          Hour         Count         Month  \\\n",
       "count  12165.000000  12165.000000  12165.000000  12165.000000  12165.000000   \n",
       "mean       0.625451      0.498185     11.519770    189.271023      6.510974   \n",
       "std        0.192102      0.192492      6.931872    181.223903      3.433995   \n",
       "min        0.000000      0.020000      0.000000      1.000000      1.000000   \n",
       "25%        0.470000      0.340000      6.000000     40.000000      4.000000   \n",
       "50%        0.620000      0.500000     12.000000    142.000000      7.000000   \n",
       "75%        0.780000      0.660000     18.000000    282.000000      9.000000   \n",
       "max        1.000000      1.000000     23.000000    970.000000     12.000000   \n",
       "\n",
       "               Year      Day Name  \n",
       "count  12165.000000  12165.000000  \n",
       "mean    2011.501932      3.005261  \n",
       "std        0.500017      1.992993  \n",
       "min     2011.000000      0.000000  \n",
       "25%     2011.000000      1.000000  \n",
       "50%     2012.000000      3.000000  \n",
       "75%     2012.000000      5.000000  \n",
       "max     2012.000000      6.000000  "
      ]
     },
     "execution_count": 16,
     "metadata": {},
     "output_type": "execute_result"
    }
   ],
   "source": [
    "# Cek deskriptif statistik fitur \n",
    "num_features = [feature for feature in dfModel.columns if ((dfModel[feature].dtypes != 'object'))]\n",
    "dfModel[num_features].describe()"
   ]
  },
  {
   "cell_type": "markdown",
   "id": "05d9bfc6",
   "metadata": {},
   "source": [
    "### Correlation Matrix"
   ]
  },
  {
   "cell_type": "code",
   "execution_count": 17,
   "id": "f134de9c",
   "metadata": {},
   "outputs": [
    {
     "data": {
      "image/png": "[encoded data removed]",
      "text/plain": [
       "<Figure size 936x720 with 2 Axes>"
      ]
     },
     "metadata": {
      "needs_background": "light"
     },
     "output_type": "display_data"
    }
   ],
   "source": [
    "plt.figure(figsize=(13, 10))\n",
    "sns.heatmap(dfModel[num_features].corr(), annot=True, cmap=\"YlGnBu\")\n",
    "plt.title('Correlation Matrix', size=15, weight='bold');\n",
    "plt.show()"
   ]
  },
  {
   "cell_type": "markdown",
   "id": "caf6b0ed",
   "metadata": {},
   "source": [
    "Analisis matriks korelasi menunjukkan bahwa tidak ada fitur yang memiliki hubungan kuat dengan fitur Count. Fitur 'Temperature' dan 'Hour' memiliki korelasi positif paling tinggi, yang berarti semakin tinggi suhu dan waktu, maka semakin banyak juga pemesanan.\n",
    "\n",
    "Setelah itu, akan dilakukan pemeriksaan distribusi data dan keberadaan outlier pada setiap fitur numerik. Jika memiliki asimetri yang tinggi, salah satu cara untuk memperbaikinya adalah melakukan modifikasi pada masing-masing fitur."
   ]
  },
  {
   "cell_type": "markdown",
   "id": "0077ad46",
   "metadata": {},
   "source": [
    "### Check Outliers"
   ]
  },
  {
   "cell_type": "markdown",
   "id": "93114489",
   "metadata": {},
   "source": [
    "Keberadaan banyak nilai outliers pada data pasti akan mempengaruhi hasil analisis dan pemodelan yang dilakukan. Sebelum memutuskan perlakuan yang sesuai untuk data, terdapat beberapa hal yang harus dipertimbangkan, salah satunya adalah dengan mempertimbangkan pengetahuan domain pengetahuan terkait."
   ]
  },
  {
   "cell_type": "code",
   "execution_count": 18,
   "id": "7e83be8a",
   "metadata": {},
   "outputs": [
    {
     "data": {
      "text/plain": [
       "<AxesSubplot:>"
      ]
     },
     "execution_count": 18,
     "metadata": {},
     "output_type": "execute_result"
    },
    {
     "data": {
      "image/png": "[encoded data removed]",
      "text/plain": [
       "<Figure size 432x288 with 1 Axes>"
      ]
     },
     "metadata": {
      "needs_background": "light"
     },
     "output_type": "display_data"
    }
   ],
   "source": [
    "# Plot boxplot untuk mengecek outliers\n",
    "dfModel.boxplot()"
   ]
  },
  {
   "cell_type": "code",
   "execution_count": 19,
   "id": "a5c9feb7",
   "metadata": {},
   "outputs": [],
   "source": [
    "# fungsi untuk mengecek outliers\n",
    "def cek_outliers(data):\n",
    "    q1, q3 = np.percentile(data, [25, 75])\n",
    "    iqr = q3 - q1\n",
    "    limit = iqr * 1.5\n",
    "    print(f'IQR: {iqr}')\n",
    "    \n",
    "    limit_bawah = q1 - limit\n",
    "    limit_atas = q3 + limit\n",
    "    print(f'limit_bawah: {limit_bawah}')\n",
    "    print(f'limit_atas: {limit_atas}')"
   ]
  },
  {
   "cell_type": "code",
   "execution_count": 20,
   "id": "ba581184",
   "metadata": {},
   "outputs": [
    {
     "name": "stdout",
     "output_type": "stream",
     "text": [
      "IQR: 0.32\n",
      "limit_bawah: -0.13999999999999996\n",
      "limit_atas: 1.1400000000000001\n"
     ]
    }
   ],
   "source": [
    "cek_outliers(dfModel['Temperature'])"
   ]
  },
  {
   "cell_type": "code",
   "execution_count": 21,
   "id": "e5559616",
   "metadata": {},
   "outputs": [
    {
     "name": "stdout",
     "output_type": "stream",
     "text": [
      "IQR: 0.31000000000000005\n",
      "limit_bawah: 0.004999999999999893\n",
      "limit_atas: 1.245\n"
     ]
    }
   ],
   "source": [
    "cek_outliers(dfModel['Humidity'])"
   ]
  },
  {
   "cell_type": "code",
   "execution_count": 22,
   "id": "94c25ef1",
   "metadata": {},
   "outputs": [
    {
     "name": "stdout",
     "output_type": "stream",
     "text": [
      "IQR: 242.0\n",
      "limit_bawah: -323.0\n",
      "limit_atas: 645.0\n"
     ]
    }
   ],
   "source": [
    "cek_outliers(dfModel['Count'])"
   ]
  },
  {
   "cell_type": "code",
   "execution_count": 23,
   "id": "33d42147",
   "metadata": {},
   "outputs": [
    {
     "data": {
      "image/png": "[encoded data removed]",
      "text/plain": [
       "<Figure size 432x288 with 1 Axes>"
      ]
     },
     "metadata": {
      "needs_background": "light"
     },
     "output_type": "display_data"
    }
   ],
   "source": [
    "sns.boxplot(dfModel['Temperature'])\n",
    "plt.show()"
   ]
  },
  {
   "cell_type": "code",
   "execution_count": 24,
   "id": "aaab88dd",
   "metadata": {},
   "outputs": [
    {
     "data": {
      "image/png": "[encoded data removed]",
      "text/plain": [
       "<Figure size 432x288 with 1 Axes>"
      ]
     },
     "metadata": {
      "needs_background": "light"
     },
     "output_type": "display_data"
    }
   ],
   "source": [
    "sns.boxplot(dfModel['Humidity'])\n",
    "plt.show()"
   ]
  },
  {
   "cell_type": "code",
   "execution_count": 25,
   "id": "475dfb5c",
   "metadata": {},
   "outputs": [
    {
     "data": {
      "image/png": "[encoded data removed]",
      "text/plain": [
       "<Figure size 432x288 with 1 Axes>"
      ]
     },
     "metadata": {
      "needs_background": "light"
     },
     "output_type": "display_data"
    }
   ],
   "source": [
    "sns.boxplot(dfModel['Count'])\n",
    "plt.show()"
   ]
  },
  {
   "cell_type": "markdown",
   "id": "43283606",
   "metadata": {},
   "source": [
    "Teridentifikasi adanya data yang terdapat nilai ekstrim pada fitur kelembapan (Humidity) dan hitungan (Count). Agar permasalahan ini dapat diselesaikan, data yang memiliki nilai ekstrim akan dihilangkan. Selanjutnya, prediksi akan dilakukan hanya pada kisaran data yang telah dibersihkan untuk menghindari adanya hasil prediksi yang bias."
   ]
  },
  {
   "cell_type": "markdown",
   "id": "6c07bbbd",
   "metadata": {},
   "source": [
    "### Humidity (Feature Engineering)"
   ]
  },
  {
   "cell_type": "code",
   "execution_count": 26,
   "id": "f23adf21",
   "metadata": {},
   "outputs": [
    {
     "data": {
      "text/plain": [
       "count    12165.000000\n",
       "mean         0.625451\n",
       "std          0.192102\n",
       "min          0.000000\n",
       "25%          0.470000\n",
       "50%          0.620000\n",
       "75%          0.780000\n",
       "max          1.000000\n",
       "Name: Humidity, dtype: float64"
      ]
     },
     "execution_count": 26,
     "metadata": {},
     "output_type": "execute_result"
    }
   ],
   "source": [
    "# cek deskriptif humidity\n",
    "dfModel['Humidity'].describe()"
   ]
  },
  {
   "cell_type": "code",
   "execution_count": 27,
   "id": "e4967b39",
   "metadata": {},
   "outputs": [
    {
     "data": {
      "text/plain": [
       "14"
      ]
     },
     "execution_count": 27,
     "metadata": {},
     "output_type": "execute_result"
    }
   ],
   "source": [
    "# Menghitung jumlah baris pada DataFrame df_model yang memiliki nilai 'Humidity' di atas 1.245 atau di bawah 0.004999999999999893\n",
    "dfModel[(dfModel['Humidity'] > 1.245) | (dfModel['Humidity'] < 0.004999999999999893)].count()['Humidity']"
   ]
  },
  {
   "cell_type": "code",
   "execution_count": 28,
   "id": "0af7e4a2",
   "metadata": {},
   "outputs": [],
   "source": [
    "# Melakukan filtering pada data\n",
    "dfModel = dfModel[(dfModel['Humidity'] <= 1.245) & (dfModel['Humidity'] >= 0.004999999999999893)]"
   ]
  },
  {
   "cell_type": "code",
   "execution_count": 29,
   "id": "6a868c2a",
   "metadata": {},
   "outputs": [
    {
     "data": {
      "image/png": "[encoded data removed]",
      "text/plain": [
       "<Figure size 1512x432 with 2 Axes>"
      ]
     },
     "metadata": {
      "needs_background": "light"
     },
     "output_type": "display_data"
    }
   ],
   "source": [
    "# Plot distribusi data sebelum dan sesudah filtering\n",
    "fig, axes = plt.subplots(1,2, figsize=(21, 6))\n",
    "sns.distplot(df['hum'], ax=axes[0])\n",
    "sns.distplot(dfModel['Humidity'], ax=axes[1])\n",
    "axes[0].set_xlabel('Price')\n",
    "axes[1].set_xlabel('Range Selected Price');"
   ]
  },
  {
   "cell_type": "code",
   "execution_count": 30,
   "id": "39d0e400",
   "metadata": {},
   "outputs": [
    {
     "data": {
      "text/plain": [
       "count    12151.000000\n",
       "mean         0.626172\n",
       "std          0.191036\n",
       "min          0.080000\n",
       "25%          0.480000\n",
       "50%          0.620000\n",
       "75%          0.780000\n",
       "max          1.000000\n",
       "Name: Humidity, dtype: float64"
      ]
     },
     "execution_count": 30,
     "metadata": {},
     "output_type": "execute_result"
    }
   ],
   "source": [
    "# Cek deskriptif statistik kolom 'Humidity' setelah filtering\n",
    "dfModel['Humidity'].describe()"
   ]
  },
  {
   "cell_type": "markdown",
   "id": "0a4f082a",
   "metadata": {},
   "source": [
    "### Count (Feature Engineering)"
   ]
  },
  {
   "cell_type": "code",
   "execution_count": 31,
   "id": "dcdd0a29",
   "metadata": {},
   "outputs": [
    {
     "data": {
      "text/plain": [
       "count    12151.000000\n",
       "mean       189.457329\n",
       "std        181.242898\n",
       "min          1.000000\n",
       "25%         40.000000\n",
       "50%        142.000000\n",
       "75%        282.000000\n",
       "max        970.000000\n",
       "Name: Count, dtype: float64"
      ]
     },
     "execution_count": 31,
     "metadata": {},
     "output_type": "execute_result"
    }
   ],
   "source": [
    "# cek deskriptif humidity\n",
    "dfModel['Count'].describe()"
   ]
  },
  {
   "cell_type": "code",
   "execution_count": 32,
   "id": "92991113",
   "metadata": {},
   "outputs": [
    {
     "data": {
      "text/plain": [
       "338"
      ]
     },
     "execution_count": 32,
     "metadata": {},
     "output_type": "execute_result"
    }
   ],
   "source": [
    "# Menghitung jumlah baris pada DataFrame df_model yang memiliki nilai 'Count' di atas 645 atau di bawah -323\n",
    "dfModel[(dfModel['Count'] > 645) | (dfModel['Count'] < -323)].count()['Count']"
   ]
  },
  {
   "cell_type": "code",
   "execution_count": 33,
   "id": "07f97c0b",
   "metadata": {},
   "outputs": [
    {
     "data": {
      "image/png": "[encoded data removed]",
      "text/plain": [
       "<Figure size 1512x432 with 2 Axes>"
      ]
     },
     "metadata": {
      "needs_background": "light"
     },
     "output_type": "display_data"
    }
   ],
   "source": [
    "# Melakukan filtering pada data\n",
    "dfModel = dfModel[(dfModel['Count'] <= 645.0) & (dfModel['Count'] >= -323.0)]\n",
    "\n",
    "# Plot distribusi data sebelum dan sesudah filtering\n",
    "fig, axes = plt.subplots(1,2, figsize=(21, 6))\n",
    "sns.distplot(df['cnt'], ax=axes[0])\n",
    "sns.distplot(dfModel['Count'], ax=axes[1])\n",
    "axes[0].set_xlabel('Count')\n",
    "axes[1].set_xlabel('Range Selected Count');"
   ]
  },
  {
   "cell_type": "code",
   "execution_count": 34,
   "id": "9688e130",
   "metadata": {},
   "outputs": [
    {
     "data": {
      "text/plain": [
       "count    11813.000000\n",
       "mean       173.384238\n",
       "std        155.931763\n",
       "min          1.000000\n",
       "25%         38.000000\n",
       "50%        136.000000\n",
       "75%        267.000000\n",
       "max        645.000000\n",
       "Name: Count, dtype: float64"
      ]
     },
     "execution_count": 34,
     "metadata": {},
     "output_type": "execute_result"
    }
   ],
   "source": [
    "# Cek deskriptif statistik kolom 'Count' setelah filtering\n",
    "dfModel['Count'].describe()"
   ]
  },
  {
   "cell_type": "markdown",
   "id": "f3daa427",
   "metadata": {},
   "source": [
    "### Temperature (Feature Engineering)"
   ]
  },
  {
   "cell_type": "code",
   "execution_count": 35,
   "id": "c2936dee",
   "metadata": {},
   "outputs": [
    {
     "data": {
      "text/plain": [
       "count    11813.000000\n",
       "mean         0.494350\n",
       "std          0.192538\n",
       "min          0.020000\n",
       "25%          0.340000\n",
       "50%          0.500000\n",
       "75%          0.660000\n",
       "max          1.000000\n",
       "Name: Temperature, dtype: float64"
      ]
     },
     "execution_count": 35,
     "metadata": {},
     "output_type": "execute_result"
    }
   ],
   "source": [
    "# Cek deskriptif statistik kolom Temperature Feel\n",
    "dfModel['Temperature'].describe()"
   ]
  },
  {
   "cell_type": "code",
   "execution_count": 36,
   "id": "31eac8bc",
   "metadata": {},
   "outputs": [
    {
     "data": {
      "text/plain": [
       "0"
      ]
     },
     "execution_count": 36,
     "metadata": {},
     "output_type": "execute_result"
    }
   ],
   "source": [
    "# Cek Temperature yang tidak di diantara -0.09854999999999997 dan 1.0530499999999998\n",
    "dfModel[(dfModel['Temperature'] > 1.0530499999999998) | (dfModel['Temperature'] < -0.09854999999999997)].count()['Temperature']"
   ]
  },
  {
   "cell_type": "markdown",
   "id": "3a9c4d6c",
   "metadata": {},
   "source": [
    "### Dataset Cleaned"
   ]
  },
  {
   "cell_type": "code",
   "execution_count": 37,
   "id": "6d902b94",
   "metadata": {},
   "outputs": [
    {
     "data": {
      "text/html": [
       "<div>\n",
       "<style scoped>\n",
       "    .dataframe tbody tr th:only-of-type {\n",
       "        vertical-align: middle;\n",
       "    }\n",
       "\n",
       "    .dataframe tbody tr th {\n",
       "        vertical-align: top;\n",
       "    }\n",
       "\n",
       "    .dataframe thead th {\n",
       "        text-align: right;\n",
       "    }\n",
       "</style>\n",
       "<table border=\"1\" class=\"dataframe\">\n",
       "  <thead>\n",
       "    <tr style=\"text-align: right;\">\n",
       "      <th></th>\n",
       "      <th>Humidity</th>\n",
       "      <th>Weather</th>\n",
       "      <th>Holiday</th>\n",
       "      <th>Season</th>\n",
       "      <th>Temperature</th>\n",
       "      <th>Hour</th>\n",
       "      <th>Count</th>\n",
       "      <th>Month</th>\n",
       "      <th>Year</th>\n",
       "      <th>Day Name</th>\n",
       "    </tr>\n",
       "  </thead>\n",
       "  <tbody>\n",
       "    <tr>\n",
       "      <th>0</th>\n",
       "      <td>0.62</td>\n",
       "      <td>1</td>\n",
       "      <td>0</td>\n",
       "      <td>4</td>\n",
       "      <td>0.36</td>\n",
       "      <td>16</td>\n",
       "      <td>250</td>\n",
       "      <td>12</td>\n",
       "      <td>2011</td>\n",
       "      <td>4</td>\n",
       "    </tr>\n",
       "    <tr>\n",
       "      <th>1</th>\n",
       "      <td>0.64</td>\n",
       "      <td>1</td>\n",
       "      <td>0</td>\n",
       "      <td>2</td>\n",
       "      <td>0.54</td>\n",
       "      <td>4</td>\n",
       "      <td>18</td>\n",
       "      <td>6</td>\n",
       "      <td>2012</td>\n",
       "      <td>6</td>\n",
       "    </tr>\n",
       "    <tr>\n",
       "      <th>2</th>\n",
       "      <td>0.53</td>\n",
       "      <td>1</td>\n",
       "      <td>0</td>\n",
       "      <td>2</td>\n",
       "      <td>0.62</td>\n",
       "      <td>23</td>\n",
       "      <td>107</td>\n",
       "      <td>6</td>\n",
       "      <td>2011</td>\n",
       "      <td>2</td>\n",
       "    </tr>\n",
       "    <tr>\n",
       "      <th>3</th>\n",
       "      <td>0.87</td>\n",
       "      <td>2</td>\n",
       "      <td>0</td>\n",
       "      <td>2</td>\n",
       "      <td>0.36</td>\n",
       "      <td>8</td>\n",
       "      <td>145</td>\n",
       "      <td>3</td>\n",
       "      <td>2012</td>\n",
       "      <td>5</td>\n",
       "    </tr>\n",
       "    <tr>\n",
       "      <th>5</th>\n",
       "      <td>0.72</td>\n",
       "      <td>1</td>\n",
       "      <td>0</td>\n",
       "      <td>4</td>\n",
       "      <td>0.46</td>\n",
       "      <td>0</td>\n",
       "      <td>45</td>\n",
       "      <td>10</td>\n",
       "      <td>2012</td>\n",
       "      <td>0</td>\n",
       "    </tr>\n",
       "  </tbody>\n",
       "</table>\n",
       "</div>"
      ],
      "text/plain": [
       "   Humidity Weather Holiday Season  Temperature  Hour  Count  Month  Year  \\\n",
       "0      0.62       1       0      4         0.36    16    250     12  2011   \n",
       "1      0.64       1       0      2         0.54     4     18      6  2012   \n",
       "2      0.53       1       0      2         0.62    23    107      6  2011   \n",
       "3      0.87       2       0      2         0.36     8    145      3  2012   \n",
       "5      0.72       1       0      4         0.46     0     45     10  2012   \n",
       "\n",
       "   Day Name  \n",
       "0         4  \n",
       "1         6  \n",
       "2         2  \n",
       "3         5  \n",
       "5         0  "
      ]
     },
     "execution_count": 37,
     "metadata": {},
     "output_type": "execute_result"
    }
   ],
   "source": [
    "dfModel.head()"
   ]
  },
  {
   "cell_type": "code",
   "execution_count": 38,
   "id": "81d94444",
   "metadata": {},
   "outputs": [
    {
     "name": "stdout",
     "output_type": "stream",
     "text": [
      "<class 'pandas.core.frame.DataFrame'>\n",
      "Int64Index: 11813 entries, 0 to 12164\n",
      "Data columns (total 10 columns):\n",
      " #   Column       Non-Null Count  Dtype   \n",
      "---  ------       --------------  -----   \n",
      " 0   Humidity     11813 non-null  float64 \n",
      " 1   Weather      11813 non-null  category\n",
      " 2   Holiday      11813 non-null  category\n",
      " 3   Season       11813 non-null  category\n",
      " 4   Temperature  11813 non-null  float64 \n",
      " 5   Hour         11813 non-null  int64   \n",
      " 6   Count        11813 non-null  int64   \n",
      " 7   Month        11813 non-null  int64   \n",
      " 8   Year         11813 non-null  int64   \n",
      " 9   Day Name     11813 non-null  int64   \n",
      "dtypes: category(3), float64(2), int64(5)\n",
      "memory usage: 773.4 KB\n"
     ]
    }
   ],
   "source": [
    "dfModel.info()"
   ]
  },
  {
   "cell_type": "markdown",
   "id": "2217b7a2",
   "metadata": {},
   "source": [
    "Setelah melakukan pembersihan data, tersisa 11.813 data yang akan digunakan untuk pemodelan. Dengan kata lain, sebanyak 3% dari total data awal telah dihapus pada tahap sebelumnya. Pada tahap ini, data yang telah diproses dan diolah sebelumnya akan dikategorikan menjadi data train dan data test. Data train akan digunakan untuk membuat model dan data test akan digunakan untuk mengevaluasi performa dari model yang telah dibuat."
   ]
  },
  {
   "cell_type": "markdown",
   "id": "37c3ffd5",
   "metadata": {},
   "source": [
    "## Modeling"
   ]
  },
  {
   "cell_type": "code",
   "execution_count": 39,
   "id": "c415995c",
   "metadata": {},
   "outputs": [
    {
     "data": {
      "text/html": [
       "<div>\n",
       "<style scoped>\n",
       "    .dataframe tbody tr th:only-of-type {\n",
       "        vertical-align: middle;\n",
       "    }\n",
       "\n",
       "    .dataframe tbody tr th {\n",
       "        vertical-align: top;\n",
       "    }\n",
       "\n",
       "    .dataframe thead th {\n",
       "        text-align: right;\n",
       "    }\n",
       "</style>\n",
       "<table border=\"1\" class=\"dataframe\">\n",
       "  <thead>\n",
       "    <tr style=\"text-align: right;\">\n",
       "      <th></th>\n",
       "      <th>Humidity</th>\n",
       "      <th>Weather</th>\n",
       "      <th>Holiday</th>\n",
       "      <th>Season</th>\n",
       "      <th>Temperature</th>\n",
       "      <th>Hour</th>\n",
       "      <th>Count</th>\n",
       "      <th>Month</th>\n",
       "      <th>Year</th>\n",
       "      <th>Day Name</th>\n",
       "    </tr>\n",
       "  </thead>\n",
       "  <tbody>\n",
       "    <tr>\n",
       "      <th>count</th>\n",
       "      <td>11813.000000</td>\n",
       "      <td>11813.0</td>\n",
       "      <td>11813.0</td>\n",
       "      <td>11813.0</td>\n",
       "      <td>11813.000000</td>\n",
       "      <td>11813.000000</td>\n",
       "      <td>11813.000000</td>\n",
       "      <td>11813.000000</td>\n",
       "      <td>11813.000000</td>\n",
       "      <td>11813.000000</td>\n",
       "    </tr>\n",
       "    <tr>\n",
       "      <th>unique</th>\n",
       "      <td>NaN</td>\n",
       "      <td>4.0</td>\n",
       "      <td>2.0</td>\n",
       "      <td>4.0</td>\n",
       "      <td>NaN</td>\n",
       "      <td>NaN</td>\n",
       "      <td>NaN</td>\n",
       "      <td>NaN</td>\n",
       "      <td>NaN</td>\n",
       "      <td>NaN</td>\n",
       "    </tr>\n",
       "    <tr>\n",
       "      <th>top</th>\n",
       "      <td>NaN</td>\n",
       "      <td>1.0</td>\n",
       "      <td>0.0</td>\n",
       "      <td>3.0</td>\n",
       "      <td>NaN</td>\n",
       "      <td>NaN</td>\n",
       "      <td>NaN</td>\n",
       "      <td>NaN</td>\n",
       "      <td>NaN</td>\n",
       "      <td>NaN</td>\n",
       "    </tr>\n",
       "    <tr>\n",
       "      <th>freq</th>\n",
       "      <td>NaN</td>\n",
       "      <td>7802.0</td>\n",
       "      <td>11452.0</td>\n",
       "      <td>3043.0</td>\n",
       "      <td>NaN</td>\n",
       "      <td>NaN</td>\n",
       "      <td>NaN</td>\n",
       "      <td>NaN</td>\n",
       "      <td>NaN</td>\n",
       "      <td>NaN</td>\n",
       "    </tr>\n",
       "    <tr>\n",
       "      <th>mean</th>\n",
       "      <td>0.629196</td>\n",
       "      <td>NaN</td>\n",
       "      <td>NaN</td>\n",
       "      <td>NaN</td>\n",
       "      <td>0.494350</td>\n",
       "      <td>11.438585</td>\n",
       "      <td>173.384238</td>\n",
       "      <td>6.487514</td>\n",
       "      <td>2011.488360</td>\n",
       "      <td>3.014983</td>\n",
       "    </tr>\n",
       "    <tr>\n",
       "      <th>std</th>\n",
       "      <td>0.190793</td>\n",
       "      <td>NaN</td>\n",
       "      <td>NaN</td>\n",
       "      <td>NaN</td>\n",
       "      <td>0.192538</td>\n",
       "      <td>6.979256</td>\n",
       "      <td>155.931763</td>\n",
       "      <td>3.455726</td>\n",
       "      <td>0.499886</td>\n",
       "      <td>1.999457</td>\n",
       "    </tr>\n",
       "    <tr>\n",
       "      <th>min</th>\n",
       "      <td>0.080000</td>\n",
       "      <td>NaN</td>\n",
       "      <td>NaN</td>\n",
       "      <td>NaN</td>\n",
       "      <td>0.020000</td>\n",
       "      <td>0.000000</td>\n",
       "      <td>1.000000</td>\n",
       "      <td>1.000000</td>\n",
       "      <td>2011.000000</td>\n",
       "      <td>0.000000</td>\n",
       "    </tr>\n",
       "    <tr>\n",
       "      <th>25%</th>\n",
       "      <td>0.480000</td>\n",
       "      <td>NaN</td>\n",
       "      <td>NaN</td>\n",
       "      <td>NaN</td>\n",
       "      <td>0.340000</td>\n",
       "      <td>5.000000</td>\n",
       "      <td>38.000000</td>\n",
       "      <td>3.000000</td>\n",
       "      <td>2011.000000</td>\n",
       "      <td>1.000000</td>\n",
       "    </tr>\n",
       "    <tr>\n",
       "      <th>50%</th>\n",
       "      <td>0.630000</td>\n",
       "      <td>NaN</td>\n",
       "      <td>NaN</td>\n",
       "      <td>NaN</td>\n",
       "      <td>0.500000</td>\n",
       "      <td>11.000000</td>\n",
       "      <td>136.000000</td>\n",
       "      <td>6.000000</td>\n",
       "      <td>2011.000000</td>\n",
       "      <td>3.000000</td>\n",
       "    </tr>\n",
       "    <tr>\n",
       "      <th>75%</th>\n",
       "      <td>0.790000</td>\n",
       "      <td>NaN</td>\n",
       "      <td>NaN</td>\n",
       "      <td>NaN</td>\n",
       "      <td>0.660000</td>\n",
       "      <td>18.000000</td>\n",
       "      <td>267.000000</td>\n",
       "      <td>9.000000</td>\n",
       "      <td>2012.000000</td>\n",
       "      <td>5.000000</td>\n",
       "    </tr>\n",
       "    <tr>\n",
       "      <th>max</th>\n",
       "      <td>1.000000</td>\n",
       "      <td>NaN</td>\n",
       "      <td>NaN</td>\n",
       "      <td>NaN</td>\n",
       "      <td>1.000000</td>\n",
       "      <td>23.000000</td>\n",
       "      <td>645.000000</td>\n",
       "      <td>12.000000</td>\n",
       "      <td>2012.000000</td>\n",
       "      <td>6.000000</td>\n",
       "    </tr>\n",
       "  </tbody>\n",
       "</table>\n",
       "</div>"
      ],
      "text/plain": [
       "            Humidity  Weather  Holiday   Season   Temperature          Hour  \\\n",
       "count   11813.000000  11813.0  11813.0  11813.0  11813.000000  11813.000000   \n",
       "unique           NaN      4.0      2.0      4.0           NaN           NaN   \n",
       "top              NaN      1.0      0.0      3.0           NaN           NaN   \n",
       "freq             NaN   7802.0  11452.0   3043.0           NaN           NaN   \n",
       "mean        0.629196      NaN      NaN      NaN      0.494350     11.438585   \n",
       "std         0.190793      NaN      NaN      NaN      0.192538      6.979256   \n",
       "min         0.080000      NaN      NaN      NaN      0.020000      0.000000   \n",
       "25%         0.480000      NaN      NaN      NaN      0.340000      5.000000   \n",
       "50%         0.630000      NaN      NaN      NaN      0.500000     11.000000   \n",
       "75%         0.790000      NaN      NaN      NaN      0.660000     18.000000   \n",
       "max         1.000000      NaN      NaN      NaN      1.000000     23.000000   \n",
       "\n",
       "               Count         Month          Year      Day Name  \n",
       "count   11813.000000  11813.000000  11813.000000  11813.000000  \n",
       "unique           NaN           NaN           NaN           NaN  \n",
       "top              NaN           NaN           NaN           NaN  \n",
       "freq             NaN           NaN           NaN           NaN  \n",
       "mean      173.384238      6.487514   2011.488360      3.014983  \n",
       "std       155.931763      3.455726      0.499886      1.999457  \n",
       "min         1.000000      1.000000   2011.000000      0.000000  \n",
       "25%        38.000000      3.000000   2011.000000      1.000000  \n",
       "50%       136.000000      6.000000   2011.000000      3.000000  \n",
       "75%       267.000000      9.000000   2012.000000      5.000000  \n",
       "max       645.000000     12.000000   2012.000000      6.000000  "
      ]
     },
     "execution_count": 39,
     "metadata": {},
     "output_type": "execute_result"
    }
   ],
   "source": [
    "dfModel.describe(include='all')"
   ]
  },
  {
   "cell_type": "markdown",
   "id": "d0cb43a8",
   "metadata": {},
   "source": [
    "### Encoding"
   ]
  },
  {
   "cell_type": "code",
   "execution_count": 40,
   "id": "e9bb097b",
   "metadata": {},
   "outputs": [],
   "source": [
    "# Mengubah fitur kategorikal menjadi numerikal\n",
    "\n",
    "transformer = ColumnTransformer([\n",
    "    ('One Hot', OneHotEncoder(drop='first', handle_unknown = 'ignore'), ['Season', 'Weather', 'Holiday']),\n",
    "    ('Binary', ce.BinaryEncoder(), ['Day Name'])\n",
    "], remainder='passthrough')"
   ]
  },
  {
   "cell_type": "markdown",
   "id": "22dea3d7",
   "metadata": {},
   "source": [
    "### Data Splitting"
   ]
  },
  {
   "cell_type": "code",
   "execution_count": 41,
   "id": "257c07f4",
   "metadata": {},
   "outputs": [],
   "source": [
    "# Memisahkan data independen variabel dengan target\n",
    "X = dfModel.drop(['Count'], axis=1)\n",
    "y = dfModel['Count']\n",
    "\n",
    "# Splitting data training dan test dengan proporsi 70:30\n",
    "X_train, X_test, y_train, y_test= train_test_split(\n",
    "    X,\n",
    "    y,  \n",
    "    test_size=0.3,\n",
    "    random_state=2009)"
   ]
  },
  {
   "cell_type": "code",
   "execution_count": 42,
   "id": "447bf3db",
   "metadata": {},
   "outputs": [
    {
     "data": {
      "text/html": [
       "<div>\n",
       "<style scoped>\n",
       "    .dataframe tbody tr th:only-of-type {\n",
       "        vertical-align: middle;\n",
       "    }\n",
       "\n",
       "    .dataframe tbody tr th {\n",
       "        vertical-align: top;\n",
       "    }\n",
       "\n",
       "    .dataframe thead th {\n",
       "        text-align: right;\n",
       "    }\n",
       "</style>\n",
       "<table border=\"1\" class=\"dataframe\">\n",
       "  <thead>\n",
       "    <tr style=\"text-align: right;\">\n",
       "      <th></th>\n",
       "      <th>Humidity</th>\n",
       "      <th>Weather</th>\n",
       "      <th>Holiday</th>\n",
       "      <th>Season</th>\n",
       "      <th>Temperature</th>\n",
       "      <th>Hour</th>\n",
       "      <th>Count</th>\n",
       "      <th>Month</th>\n",
       "      <th>Year</th>\n",
       "      <th>Day Name</th>\n",
       "    </tr>\n",
       "  </thead>\n",
       "  <tbody>\n",
       "    <tr>\n",
       "      <th>0</th>\n",
       "      <td>0.62</td>\n",
       "      <td>1</td>\n",
       "      <td>0</td>\n",
       "      <td>4</td>\n",
       "      <td>0.36</td>\n",
       "      <td>16</td>\n",
       "      <td>250</td>\n",
       "      <td>12</td>\n",
       "      <td>2011</td>\n",
       "      <td>4</td>\n",
       "    </tr>\n",
       "    <tr>\n",
       "      <th>1</th>\n",
       "      <td>0.64</td>\n",
       "      <td>1</td>\n",
       "      <td>0</td>\n",
       "      <td>2</td>\n",
       "      <td>0.54</td>\n",
       "      <td>4</td>\n",
       "      <td>18</td>\n",
       "      <td>6</td>\n",
       "      <td>2012</td>\n",
       "      <td>6</td>\n",
       "    </tr>\n",
       "    <tr>\n",
       "      <th>2</th>\n",
       "      <td>0.53</td>\n",
       "      <td>1</td>\n",
       "      <td>0</td>\n",
       "      <td>2</td>\n",
       "      <td>0.62</td>\n",
       "      <td>23</td>\n",
       "      <td>107</td>\n",
       "      <td>6</td>\n",
       "      <td>2011</td>\n",
       "      <td>2</td>\n",
       "    </tr>\n",
       "    <tr>\n",
       "      <th>3</th>\n",
       "      <td>0.87</td>\n",
       "      <td>2</td>\n",
       "      <td>0</td>\n",
       "      <td>2</td>\n",
       "      <td>0.36</td>\n",
       "      <td>8</td>\n",
       "      <td>145</td>\n",
       "      <td>3</td>\n",
       "      <td>2012</td>\n",
       "      <td>5</td>\n",
       "    </tr>\n",
       "    <tr>\n",
       "      <th>5</th>\n",
       "      <td>0.72</td>\n",
       "      <td>1</td>\n",
       "      <td>0</td>\n",
       "      <td>4</td>\n",
       "      <td>0.46</td>\n",
       "      <td>0</td>\n",
       "      <td>45</td>\n",
       "      <td>10</td>\n",
       "      <td>2012</td>\n",
       "      <td>0</td>\n",
       "    </tr>\n",
       "    <tr>\n",
       "      <th>...</th>\n",
       "      <td>...</td>\n",
       "      <td>...</td>\n",
       "      <td>...</td>\n",
       "      <td>...</td>\n",
       "      <td>...</td>\n",
       "      <td>...</td>\n",
       "      <td>...</td>\n",
       "      <td>...</td>\n",
       "      <td>...</td>\n",
       "      <td>...</td>\n",
       "    </tr>\n",
       "    <tr>\n",
       "      <th>12160</th>\n",
       "      <td>0.75</td>\n",
       "      <td>1</td>\n",
       "      <td>0</td>\n",
       "      <td>1</td>\n",
       "      <td>0.24</td>\n",
       "      <td>7</td>\n",
       "      <td>257</td>\n",
       "      <td>1</td>\n",
       "      <td>2012</td>\n",
       "      <td>2</td>\n",
       "    </tr>\n",
       "    <tr>\n",
       "      <th>12161</th>\n",
       "      <td>0.62</td>\n",
       "      <td>1</td>\n",
       "      <td>0</td>\n",
       "      <td>3</td>\n",
       "      <td>0.78</td>\n",
       "      <td>0</td>\n",
       "      <td>102</td>\n",
       "      <td>7</td>\n",
       "      <td>2012</td>\n",
       "      <td>4</td>\n",
       "    </tr>\n",
       "    <tr>\n",
       "      <th>12162</th>\n",
       "      <td>0.60</td>\n",
       "      <td>2</td>\n",
       "      <td>1</td>\n",
       "      <td>1</td>\n",
       "      <td>0.24</td>\n",
       "      <td>5</td>\n",
       "      <td>6</td>\n",
       "      <td>2</td>\n",
       "      <td>2012</td>\n",
       "      <td>0</td>\n",
       "    </tr>\n",
       "    <tr>\n",
       "      <th>12163</th>\n",
       "      <td>0.77</td>\n",
       "      <td>2</td>\n",
       "      <td>0</td>\n",
       "      <td>2</td>\n",
       "      <td>0.42</td>\n",
       "      <td>2</td>\n",
       "      <td>69</td>\n",
       "      <td>3</td>\n",
       "      <td>2012</td>\n",
       "      <td>5</td>\n",
       "    </tr>\n",
       "    <tr>\n",
       "      <th>12164</th>\n",
       "      <td>0.47</td>\n",
       "      <td>1</td>\n",
       "      <td>0</td>\n",
       "      <td>2</td>\n",
       "      <td>0.64</td>\n",
       "      <td>18</td>\n",
       "      <td>530</td>\n",
       "      <td>4</td>\n",
       "      <td>2011</td>\n",
       "      <td>3</td>\n",
       "    </tr>\n",
       "  </tbody>\n",
       "</table>\n",
       "<p>11813 rows × 10 columns</p>\n",
       "</div>"
      ],
      "text/plain": [
       "       Humidity Weather Holiday Season  Temperature  Hour  Count  Month  Year  \\\n",
       "0          0.62       1       0      4         0.36    16    250     12  2011   \n",
       "1          0.64       1       0      2         0.54     4     18      6  2012   \n",
       "2          0.53       1       0      2         0.62    23    107      6  2011   \n",
       "3          0.87       2       0      2         0.36     8    145      3  2012   \n",
       "5          0.72       1       0      4         0.46     0     45     10  2012   \n",
       "...         ...     ...     ...    ...          ...   ...    ...    ...   ...   \n",
       "12160      0.75       1       0      1         0.24     7    257      1  2012   \n",
       "12161      0.62       1       0      3         0.78     0    102      7  2012   \n",
       "12162      0.60       2       1      1         0.24     5      6      2  2012   \n",
       "12163      0.77       2       0      2         0.42     2     69      3  2012   \n",
       "12164      0.47       1       0      2         0.64    18    530      4  2011   \n",
       "\n",
       "       Day Name  \n",
       "0             4  \n",
       "1             6  \n",
       "2             2  \n",
       "3             5  \n",
       "5             0  \n",
       "...         ...  \n",
       "12160         2  \n",
       "12161         4  \n",
       "12162         0  \n",
       "12163         5  \n",
       "12164         3  \n",
       "\n",
       "[11813 rows x 10 columns]"
      ]
     },
     "execution_count": 42,
     "metadata": {},
     "output_type": "execute_result"
    }
   ],
   "source": [
    "dfModel"
   ]
  },
  {
   "cell_type": "markdown",
   "id": "8a3d1508",
   "metadata": {},
   "source": [
    "### Benchmark Model"
   ]
  },
  {
   "cell_type": "code",
   "execution_count": 43,
   "id": "c6c7a564",
   "metadata": {
    "scrolled": true
   },
   "outputs": [
    {
     "name": "stdout",
     "output_type": "stream",
     "text": [
      "Warning: No categorical columns found. Calling 'transform' will only return input data.\n",
      "Warning: No categorical columns found. Calling 'transform' will only return input data.\n",
      "Warning: No categorical columns found. Calling 'transform' will only return input data.\n",
      "Warning: No categorical columns found. Calling 'transform' will only return input data.\n",
      "Warning: No categorical columns found. Calling 'transform' will only return input data.\n",
      "[-140.19622033 -142.66233693 -138.40702762 -145.31501764 -153.67892468] TransformedTargetRegressor(func=<ufunc 'log'>, inverse_func=<ufunc 'exp'>,\n",
      "                           regressor=LinearRegression())\n",
      "Warning: No categorical columns found. Calling 'transform' will only return input data.\n",
      "Warning: No categorical columns found. Calling 'transform' will only return input data.\n",
      "Warning: No categorical columns found. Calling 'transform' will only return input data.\n",
      "Warning: No categorical columns found. Calling 'transform' will only return input data.\n",
      "Warning: No categorical columns found. Calling 'transform' will only return input data.\n",
      "[ -95.21657615  -97.224386    -95.0739298   -97.28117804 -105.33533868] TransformedTargetRegressor(func=<ufunc 'log'>, inverse_func=<ufunc 'exp'>,\n",
      "                           regressor=LinearRegression())\n",
      "Warning: No categorical columns found. Calling 'transform' will only return input data.\n",
      "Warning: No categorical columns found. Calling 'transform' will only return input data.\n",
      "Warning: No categorical columns found. Calling 'transform' will only return input data.\n",
      "Warning: No categorical columns found. Calling 'transform' will only return input data.\n",
      "Warning: No categorical columns found. Calling 'transform' will only return input data.\n",
      "[-1.41972731 -1.25857911 -1.42418122 -1.42787427 -1.41011789] TransformedTargetRegressor(func=<ufunc 'log'>, inverse_func=<ufunc 'exp'>,\n",
      "                           regressor=LinearRegression())\n",
      "Warning: No categorical columns found. Calling 'transform' will only return input data.\n",
      "Warning: No categorical columns found. Calling 'transform' will only return input data.\n",
      "Warning: No categorical columns found. Calling 'transform' will only return input data.\n",
      "Warning: No categorical columns found. Calling 'transform' will only return input data.\n",
      "Warning: No categorical columns found. Calling 'transform' will only return input data.\n",
      "[ -92.63751287  -94.15482027  -88.47645779  -99.15097761 -105.28513102] TransformedTargetRegressor(func=<ufunc 'log'>, inverse_func=<ufunc 'exp'>,\n",
      "                           regressor=KNeighborsRegressor())\n",
      "Warning: No categorical columns found. Calling 'transform' will only return input data.\n",
      "Warning: No categorical columns found. Calling 'transform' will only return input data.\n",
      "Warning: No categorical columns found. Calling 'transform' will only return input data.\n",
      "Warning: No categorical columns found. Calling 'transform' will only return input data.\n",
      "Warning: No categorical columns found. Calling 'transform' will only return input data.\n",
      "[-59.03957042 -59.66229447 -57.19948093 -61.17964359 -66.04012013] TransformedTargetRegressor(func=<ufunc 'log'>, inverse_func=<ufunc 'exp'>,\n",
      "                           regressor=KNeighborsRegressor())\n",
      "Warning: No categorical columns found. Calling 'transform' will only return input data.\n",
      "Warning: No categorical columns found. Calling 'transform' will only return input data.\n",
      "Warning: No categorical columns found. Calling 'transform' will only return input data.\n",
      "Warning: No categorical columns found. Calling 'transform' will only return input data.\n",
      "Warning: No categorical columns found. Calling 'transform' will only return input data.\n",
      "[-0.81868696 -0.72813404 -0.86843141 -0.9459862  -0.90973412] TransformedTargetRegressor(func=<ufunc 'log'>, inverse_func=<ufunc 'exp'>,\n",
      "                           regressor=KNeighborsRegressor())\n",
      "Warning: No categorical columns found. Calling 'transform' will only return input data.\n",
      "Warning: No categorical columns found. Calling 'transform' will only return input data.\n",
      "Warning: No categorical columns found. Calling 'transform' will only return input data.\n",
      "Warning: No categorical columns found. Calling 'transform' will only return input data.\n",
      "Warning: No categorical columns found. Calling 'transform' will only return input data.\n",
      "[-62.14653915 -66.46091211 -59.28354047 -63.83493989 -64.83667896] TransformedTargetRegressor(func=<ufunc 'log'>, inverse_func=<ufunc 'exp'>,\n",
      "                           regressor=DecisionTreeRegressor(random_state=2009))\n",
      "Warning: No categorical columns found. Calling 'transform' will only return input data.\n",
      "Warning: No categorical columns found. Calling 'transform' will only return input data.\n",
      "Warning: No categorical columns found. Calling 'transform' will only return input data.\n",
      "Warning: No categorical columns found. Calling 'transform' will only return input data.\n",
      "Warning: No categorical columns found. Calling 'transform' will only return input data.\n",
      "[-36.74186214 -38.20495768 -35.88407915 -37.62712279 -37.73324253] TransformedTargetRegressor(func=<ufunc 'log'>, inverse_func=<ufunc 'exp'>,\n",
      "                           regressor=DecisionTreeRegressor(random_state=2009))\n",
      "Warning: No categorical columns found. Calling 'transform' will only return input data.\n",
      "Warning: No categorical columns found. Calling 'transform' will only return input data.\n",
      "Warning: No categorical columns found. Calling 'transform' will only return input data.\n",
      "Warning: No categorical columns found. Calling 'transform' will only return input data.\n",
      "Warning: No categorical columns found. Calling 'transform' will only return input data.\n",
      "[-0.44340669 -0.37504293 -0.42184377 -0.42942453 -0.41205138] TransformedTargetRegressor(func=<ufunc 'log'>, inverse_func=<ufunc 'exp'>,\n",
      "                           regressor=DecisionTreeRegressor(random_state=2009))\n",
      "Warning: No categorical columns found. Calling 'transform' will only return input data.\n",
      "Warning: No categorical columns found. Calling 'transform' will only return input data.\n",
      "Warning: No categorical columns found. Calling 'transform' will only return input data.\n",
      "Warning: No categorical columns found. Calling 'transform' will only return input data.\n",
      "Warning: No categorical columns found. Calling 'transform' will only return input data.\n",
      "[-43.02217608 -47.66189009 -41.92747768 -49.1815955  -49.31798059] TransformedTargetRegressor(func=<ufunc 'log'>, inverse_func=<ufunc 'exp'>,\n",
      "                           regressor=RandomForestRegressor(random_state=2009))\n",
      "Warning: No categorical columns found. Calling 'transform' will only return input data.\n",
      "Warning: No categorical columns found. Calling 'transform' will only return input data.\n",
      "Warning: No categorical columns found. Calling 'transform' will only return input data.\n",
      "Warning: No categorical columns found. Calling 'transform' will only return input data.\n",
      "Warning: No categorical columns found. Calling 'transform' will only return input data.\n",
      "[-26.42761456 -28.32350673 -25.65579533 -28.74985652 -30.11648016] TransformedTargetRegressor(func=<ufunc 'log'>, inverse_func=<ufunc 'exp'>,\n",
      "                           regressor=RandomForestRegressor(random_state=2009))\n",
      "Warning: No categorical columns found. Calling 'transform' will only return input data.\n",
      "Warning: No categorical columns found. Calling 'transform' will only return input data.\n",
      "Warning: No categorical columns found. Calling 'transform' will only return input data.\n",
      "Warning: No categorical columns found. Calling 'transform' will only return input data.\n",
      "Warning: No categorical columns found. Calling 'transform' will only return input data.\n",
      "[-0.29997369 -0.2659023  -0.28586325 -0.30034227 -0.30303626] TransformedTargetRegressor(func=<ufunc 'log'>, inverse_func=<ufunc 'exp'>,\n",
      "                           regressor=RandomForestRegressor(random_state=2009))\n",
      "Warning: No categorical columns found. Calling 'transform' will only return input data.\n",
      "Warning: No categorical columns found. Calling 'transform' will only return input data.\n",
      "Warning: No categorical columns found. Calling 'transform' will only return input data.\n",
      "Warning: No categorical columns found. Calling 'transform' will only return input data.\n",
      "Warning: No categorical columns found. Calling 'transform' will only return input data.\n"
     ]
    },
    {
     "name": "stdout",
     "output_type": "stream",
     "text": [
      "[-39.85214637 -44.97344115 -41.19457763 -42.04228417 -47.29825185] TransformedTargetRegressor(func=<ufunc 'log'>, inverse_func=<ufunc 'exp'>,\n",
      "                           regressor=XGBRegressor(base_score=None, booster=None,\n",
      "                                                  callbacks=None,\n",
      "                                                  colsample_bylevel=None,\n",
      "                                                  colsample_bynode=None,\n",
      "                                                  colsample_bytree=None,\n",
      "                                                  early_stopping_rounds=None,\n",
      "                                                  enable_categorical=False,\n",
      "                                                  eval_metric=None,\n",
      "                                                  feature_types=None,\n",
      "                                                  gamma=None, gpu_id=None,\n",
      "                                                  grow_policy=None,\n",
      "                                                  importance_type=None,\n",
      "                                                  interaction_constraints=None,\n",
      "                                                  learning_rate=None,\n",
      "                                                  max_bin=None,\n",
      "                                                  max_cat_threshold=None,\n",
      "                                                  max_cat_to_onehot=None,\n",
      "                                                  max_delta_step=None,\n",
      "                                                  max_depth=None,\n",
      "                                                  max_leaves=None,\n",
      "                                                  min_child_weight=None,\n",
      "                                                  missing=nan,\n",
      "                                                  monotone_constraints=None,\n",
      "                                                  n_estimators=100, n_jobs=None,\n",
      "                                                  num_parallel_tree=None,\n",
      "                                                  predictor=None,\n",
      "                                                  random_state=2009, ...))\n",
      "Warning: No categorical columns found. Calling 'transform' will only return input data.\n",
      "Warning: No categorical columns found. Calling 'transform' will only return input data.\n",
      "Warning: No categorical columns found. Calling 'transform' will only return input data.\n",
      "Warning: No categorical columns found. Calling 'transform' will only return input data.\n",
      "Warning: No categorical columns found. Calling 'transform' will only return input data.\n",
      "[-24.78826237 -27.0167059  -25.11715367 -26.06938116 -28.52380716] TransformedTargetRegressor(func=<ufunc 'log'>, inverse_func=<ufunc 'exp'>,\n",
      "                           regressor=XGBRegressor(base_score=None, booster=None,\n",
      "                                                  callbacks=None,\n",
      "                                                  colsample_bylevel=None,\n",
      "                                                  colsample_bynode=None,\n",
      "                                                  colsample_bytree=None,\n",
      "                                                  early_stopping_rounds=None,\n",
      "                                                  enable_categorical=False,\n",
      "                                                  eval_metric=None,\n",
      "                                                  feature_types=None,\n",
      "                                                  gamma=None, gpu_id=None,\n",
      "                                                  grow_policy=None,\n",
      "                                                  importance_type=None,\n",
      "                                                  interaction_constraints=None,\n",
      "                                                  learning_rate=None,\n",
      "                                                  max_bin=None,\n",
      "                                                  max_cat_threshold=None,\n",
      "                                                  max_cat_to_onehot=None,\n",
      "                                                  max_delta_step=None,\n",
      "                                                  max_depth=None,\n",
      "                                                  max_leaves=None,\n",
      "                                                  min_child_weight=None,\n",
      "                                                  missing=nan,\n",
      "                                                  monotone_constraints=None,\n",
      "                                                  n_estimators=100, n_jobs=None,\n",
      "                                                  num_parallel_tree=None,\n",
      "                                                  predictor=None,\n",
      "                                                  random_state=2009, ...))\n",
      "Warning: No categorical columns found. Calling 'transform' will only return input data.\n",
      "Warning: No categorical columns found. Calling 'transform' will only return input data.\n",
      "Warning: No categorical columns found. Calling 'transform' will only return input data.\n",
      "Warning: No categorical columns found. Calling 'transform' will only return input data.\n",
      "Warning: No categorical columns found. Calling 'transform' will only return input data.\n",
      "[-0.25751768 -0.23952787 -0.26984505 -0.26586905 -0.29000872] TransformedTargetRegressor(func=<ufunc 'log'>, inverse_func=<ufunc 'exp'>,\n",
      "                           regressor=XGBRegressor(base_score=None, booster=None,\n",
      "                                                  callbacks=None,\n",
      "                                                  colsample_bylevel=None,\n",
      "                                                  colsample_bynode=None,\n",
      "                                                  colsample_bytree=None,\n",
      "                                                  early_stopping_rounds=None,\n",
      "                                                  enable_categorical=False,\n",
      "                                                  eval_metric=None,\n",
      "                                                  feature_types=None,\n",
      "                                                  gamma=None, gpu_id=None,\n",
      "                                                  grow_policy=None,\n",
      "                                                  importance_type=None,\n",
      "                                                  interaction_constraints=None,\n",
      "                                                  learning_rate=None,\n",
      "                                                  max_bin=None,\n",
      "                                                  max_cat_threshold=None,\n",
      "                                                  max_cat_to_onehot=None,\n",
      "                                                  max_delta_step=None,\n",
      "                                                  max_depth=None,\n",
      "                                                  max_leaves=None,\n",
      "                                                  min_child_weight=None,\n",
      "                                                  missing=nan,\n",
      "                                                  monotone_constraints=None,\n",
      "                                                  n_estimators=100, n_jobs=None,\n",
      "                                                  num_parallel_tree=None,\n",
      "                                                  predictor=None,\n",
      "                                                  random_state=2009, ...))\n"
     ]
    }
   ],
   "source": [
    "# Mendefinisikan algoritma yang digunakan\n",
    "lr = LinearRegression()\n",
    "knn = KNeighborsRegressor()\n",
    "dt = DecisionTreeRegressor(random_state=2009)\n",
    "rf = RandomForestRegressor(random_state=2009)\n",
    "xgb = XGBRegressor(random_state=2009)\n",
    "\n",
    "# Pemodelan dilakukan dalam skala logaritmik, namun kemudian di-inverse kembali untuk interpretasi\n",
    "logLr = TransformedTargetRegressor(lr, func=np.log, inverse_func=np.exp)\n",
    "logKnn = TransformedTargetRegressor(knn, func=np.log, inverse_func=np.exp)\n",
    "logDt = TransformedTargetRegressor(dt, func=np.log, inverse_func=np.exp)\n",
    "logRf = TransformedTargetRegressor(rf, func=np.log, inverse_func=np.exp)\n",
    "logXgb = TransformedTargetRegressor(xgb, func=np.log, inverse_func=np.exp)\n",
    "\n",
    "# Scaling data\n",
    "scaler = StandardScaler()\n",
    "\n",
    "# Kandidat algoritma\n",
    "models = [logLr, logKnn, logDt, logRf, logXgb]\n",
    "\n",
    "scoreRmse = []\n",
    "nilaiMeanRmse = []\n",
    "nilaiStdRmse = []\n",
    "\n",
    "scoreMae = []\n",
    "nilaiMeanMae = []\n",
    "nilaiStdMae = []\n",
    "\n",
    "scoreMape = []\n",
    "nilaiMeanMape = []\n",
    "nilaiStdMape = []\n",
    "\n",
    "scoreMsle = []\n",
    "nilaiMeanMsle = []\n",
    "nilaiStdMsle = []\n",
    "\n",
    "# Mencari algoritma terbaik berdasarkan nilai MAE, MAPE, RMSE\n",
    "for i in models:\n",
    "    crossval = KFold(n_splits=5, shuffle=True, random_state=1)\n",
    "    estimator = Pipeline([\n",
    "        ('preprocessing', transformer),\n",
    "        ('scaler', scaler),\n",
    "        ('model', i)\n",
    "    ])\n",
    "\n",
    "    # RMSE\n",
    "    modelCvRMSE = cross_val_score(\n",
    "        estimator, \n",
    "        X_train, \n",
    "        y_train, \n",
    "        cv=crossval, \n",
    "        scoring='neg_root_mean_squared_error', \n",
    "        error_score='raise'\n",
    "        )\n",
    "\n",
    "    print(modelCvRMSE, i)\n",
    "\n",
    "    scoreRmse.append(modelCvRMSE)\n",
    "    nilaiMeanRmse.append(modelCvRMSE.mean())\n",
    "    nilaiStdRmse.append(modelCvRMSE.std())\n",
    "    \n",
    "    # MAE\n",
    "    modelCvMae = cross_val_score(\n",
    "        estimator, \n",
    "        X_train, \n",
    "        y_train, \n",
    "        cv=crossval, \n",
    "        scoring='neg_mean_absolute_error', \n",
    "        error_score='raise'\n",
    "        )\n",
    "\n",
    "    print(modelCvMae, i)\n",
    "\n",
    "    scoreMae.append(modelCvMae)\n",
    "    nilaiMeanMae.append(modelCvMae.mean())\n",
    "    nilaiStdMae.append(modelCvMae.std())\n",
    "\n",
    "    # MAPE\n",
    "    modelCvMape = cross_val_score(\n",
    "        estimator, \n",
    "        X_train, \n",
    "        y_train, \n",
    "        cv=crossval, \n",
    "        scoring='neg_mean_absolute_percentage_error', \n",
    "        error_score='raise'\n",
    "        )\n",
    "\n",
    "    print(modelCvMape, i)\n",
    "\n",
    "    scoreMape.append(modelCvMape)\n",
    "    nilaiMeanMape.append(modelCvMape.mean())\n",
    "    nilaiStdMape.append(modelCvMape.std())"
   ]
  },
  {
   "cell_type": "code",
   "execution_count": 44,
   "id": "0c3ae1c6",
   "metadata": {},
   "outputs": [
    {
     "data": {
      "text/html": [
       "<div>\n",
       "<style scoped>\n",
       "    .dataframe tbody tr th:only-of-type {\n",
       "        vertical-align: middle;\n",
       "    }\n",
       "\n",
       "    .dataframe tbody tr th {\n",
       "        vertical-align: top;\n",
       "    }\n",
       "\n",
       "    .dataframe thead th {\n",
       "        text-align: right;\n",
       "    }\n",
       "</style>\n",
       "<table border=\"1\" class=\"dataframe\">\n",
       "  <thead>\n",
       "    <tr style=\"text-align: right;\">\n",
       "      <th></th>\n",
       "      <th>Model</th>\n",
       "      <th>MeanMAE</th>\n",
       "      <th>StdMAE</th>\n",
       "      <th>MeanMAPE</th>\n",
       "      <th>StdMAPE</th>\n",
       "      <th>MeanRMSE</th>\n",
       "      <th>StdRMSE</th>\n",
       "    </tr>\n",
       "  </thead>\n",
       "  <tbody>\n",
       "    <tr>\n",
       "      <th>0</th>\n",
       "      <td>Linear Regression</td>\n",
       "      <td>-98.026282</td>\n",
       "      <td>3.774423</td>\n",
       "      <td>-1.388096</td>\n",
       "      <td>0.065030</td>\n",
       "      <td>-144.051905</td>\n",
       "      <td>5.346715</td>\n",
       "    </tr>\n",
       "    <tr>\n",
       "      <th>1</th>\n",
       "      <td>KNN Regressor</td>\n",
       "      <td>-60.624222</td>\n",
       "      <td>2.993517</td>\n",
       "      <td>-0.854195</td>\n",
       "      <td>0.075980</td>\n",
       "      <td>-95.940980</td>\n",
       "      <td>5.786875</td>\n",
       "    </tr>\n",
       "    <tr>\n",
       "      <th>2</th>\n",
       "      <td>DecisionTree Regressor</td>\n",
       "      <td>-37.238253</td>\n",
       "      <td>0.825947</td>\n",
       "      <td>-0.416354</td>\n",
       "      <td>0.023056</td>\n",
       "      <td>-63.312522</td>\n",
       "      <td>2.453591</td>\n",
       "    </tr>\n",
       "    <tr>\n",
       "      <th>3</th>\n",
       "      <td>RandomForest Regressor</td>\n",
       "      <td>-27.854651</td>\n",
       "      <td>1.612978</td>\n",
       "      <td>-0.291024</td>\n",
       "      <td>0.013921</td>\n",
       "      <td>-46.222224</td>\n",
       "      <td>3.133668</td>\n",
       "    </tr>\n",
       "    <tr>\n",
       "      <th>4</th>\n",
       "      <td>XGBoost Regressor</td>\n",
       "      <td>-26.303062</td>\n",
       "      <td>1.356215</td>\n",
       "      <td>-0.264554</td>\n",
       "      <td>0.016453</td>\n",
       "      <td>-43.072140</td>\n",
       "      <td>2.699228</td>\n",
       "    </tr>\n",
       "  </tbody>\n",
       "</table>\n",
       "</div>"
      ],
      "text/plain": [
       "                    Model    MeanMAE    StdMAE  MeanMAPE   StdMAPE  \\\n",
       "0       Linear Regression -98.026282  3.774423 -1.388096  0.065030   \n",
       "1           KNN Regressor -60.624222  2.993517 -0.854195  0.075980   \n",
       "2  DecisionTree Regressor -37.238253  0.825947 -0.416354  0.023056   \n",
       "3  RandomForest Regressor -27.854651  1.612978 -0.291024  0.013921   \n",
       "4       XGBoost Regressor -26.303062  1.356215 -0.264554  0.016453   \n",
       "\n",
       "     MeanRMSE   StdRMSE  \n",
       "0 -144.051905  5.346715  \n",
       "1  -95.940980  5.786875  \n",
       "2  -63.312522  2.453591  \n",
       "3  -46.222224  3.133668  \n",
       "4  -43.072140  2.699228  "
      ]
     },
     "execution_count": 44,
     "metadata": {},
     "output_type": "execute_result"
    }
   ],
   "source": [
    "# Evaluasi hasil dari 5 kandidat algoritma yang digunakan\n",
    "pd.DataFrame({\n",
    "    'Model': ['Linear Regression', 'KNN Regressor', 'DecisionTree Regressor', 'RandomForest Regressor', 'XGBoost Regressor'],\n",
    "    'MeanMAE': nilaiMeanMae,\n",
    "    'StdMAE': nilaiStdMae,\n",
    "    'MeanMAPE': nilaiMeanMape,\n",
    "    'StdMAPE': nilaiStdMape,\n",
    "    'MeanRMSE': nilaiMeanRmse,\n",
    "    'StdRMSE': nilaiStdRmse\n",
    "})"
   ]
  },
  {
   "cell_type": "markdown",
   "id": "7ee42790",
   "metadata": {},
   "source": [
    "Ada perbedaan cukup signifikan antara nilai RMSE dan MAE, di mana RMSE lebih tinggi karena nilai residuals atau error-nya dikuadratkan terlebih dahulu sebelum dirata-ratakan. Hal ini menyebabkan RMSE akan memberikan \"weight\" yang lebih tinggi untuk nilai error yang besar, sehingga terdapat perbedaan signifikan antara nilai RMSE dan MAE karena terdapat beberapa nilai error yang besar yang dihasilkan oleh semua algoritma yang digunakan. Berdasarkan nilai ketiga matriks tersebut, XGBoost adalah model terbaik. Oleh karena itu, prediksi test set akan dilakukan dengan menggunakan model XGBoost."
   ]
  },
  {
   "cell_type": "markdown",
   "id": "4cc8ade3",
   "metadata": {},
   "source": [
    "### Prediksi dengan Benchmark Model"
   ]
  },
  {
   "cell_type": "code",
   "execution_count": 45,
   "id": "158c51fb",
   "metadata": {},
   "outputs": [
    {
     "name": "stdout",
     "output_type": "stream",
     "text": [
      "Warning: No categorical columns found. Calling 'transform' will only return input data.\n"
     ]
    },
    {
     "data": {
      "text/html": [
       "<div>\n",
       "<style scoped>\n",
       "    .dataframe tbody tr th:only-of-type {\n",
       "        vertical-align: middle;\n",
       "    }\n",
       "\n",
       "    .dataframe tbody tr th {\n",
       "        vertical-align: top;\n",
       "    }\n",
       "\n",
       "    .dataframe thead th {\n",
       "        text-align: right;\n",
       "    }\n",
       "</style>\n",
       "<table border=\"1\" class=\"dataframe\">\n",
       "  <thead>\n",
       "    <tr style=\"text-align: right;\">\n",
       "      <th></th>\n",
       "      <th>MAE</th>\n",
       "      <th>MAPE</th>\n",
       "      <th>RMSE</th>\n",
       "    </tr>\n",
       "  </thead>\n",
       "  <tbody>\n",
       "    <tr>\n",
       "      <th>XGB</th>\n",
       "      <td>25.660473</td>\n",
       "      <td>0.417682</td>\n",
       "      <td>40.253471</td>\n",
       "    </tr>\n",
       "  </tbody>\n",
       "</table>\n",
       "</div>"
      ],
      "text/plain": [
       "           MAE      MAPE       RMSE\n",
       "XGB  25.660473  0.417682  40.253471"
      ]
     },
     "execution_count": 45,
     "metadata": {},
     "output_type": "execute_result"
    }
   ],
   "source": [
    "# Benchmark model terbaik\n",
    "models = {\n",
    "    'XGB': XGBRegressor(random_state=2020),\n",
    "}\n",
    "\n",
    "scoreMAE = []\n",
    "scoreMAPE = []\n",
    "scoreRMSE = []\n",
    "\n",
    "# Prediksi pada test set\n",
    "for i in models:\n",
    "\n",
    "    model = Pipeline([\n",
    "        ('preprocessing', transformer),\n",
    "        ('scaler', scaler),\n",
    "        ('model', models[i])\n",
    "        ])\n",
    "\n",
    "    model.fit(X_train, y_train)\n",
    "    y_pred = model.predict(X_test)\n",
    "    scoreMAE.append(mean_absolute_error(y_test, y_pred))\n",
    "    scoreMAPE.append(mean_absolute_percentage_error(y_test, y_pred))\n",
    "    scoreRMSE.append(np.sqrt(mean_squared_error(y_test, y_pred)))\n",
    "\n",
    "scoreSebelum = pd.DataFrame({'MAE': scoreMAE, 'MAPE': scoreMAPE, 'RMSE': scoreRMSE}, index=models.keys())\n",
    "scoreSebelum"
   ]
  },
  {
   "cell_type": "markdown",
   "id": "254d72f7",
   "metadata": {},
   "source": [
    "Performa pada model ini dengan menggunakan XGBoost cukup baik ketika dilakukan prediksi pada test set dan tidak memiliki perbedaan signifikan dengan train set dengan begitu, model ini tidak overfitting atau underfitting"
   ]
  },
  {
   "cell_type": "markdown",
   "id": "b258ae6e",
   "metadata": {},
   "source": [
    "### Hyperparameter Tuning"
   ]
  },
  {
   "cell_type": "code",
   "execution_count": 46,
   "id": "30779483",
   "metadata": {},
   "outputs": [],
   "source": [
    "# Kedalaman pohon. Semakin mendalam, performa mungkin dapat ditingkatkan, namun hal ini juga dapat meningkatkan kompleksitas dan kemungkinan terjadinya overfitting.\n",
    "max_depth = list(np.arange(5, 16)) \n",
    "\n",
    "# Learning rate. Learning rate rendah membuat komputasi lebih lambat.\n",
    "learning_rate = list(np.arange(1, 10)/10) \n",
    "\n",
    "# Jumlah pohon di ensemble. \n",
    "n_estimators = list(np.arange(100, 300)) \n",
    "\n",
    "# Jumlah feature yang digunakan untuk tiap pohon. Kemungkinan dapat meningkatkan overfitting\n",
    "colsample_bytree = list(np.arange(1, 10)/10) \n",
    "\n",
    "# Jumlah baris tiap pohon. Nilai lebih rendah dapat mencegah overfitting namun bisa menyebabkan underfitting. \n",
    "subsample = list(np.arange(1, 10)/10) \n",
    "\n",
    "# Alpha. Meningkatkan speed performance\n",
    "reg_alpha = list(np.logspace(-1, 1, 10)) \n",
    "\n",
    "# Lambda. Menurunkan Overfitting\n",
    "reg_lambda = list(np.logspace(-1, 1, 10)) \n",
    "\n",
    "# Gamma (min_impurity_decrease)\n",
    "gamma = list(np.arange(5, 16)) # 5 - 15\n",
    "\n",
    "# Hyperparam space XGboost\n",
    "hyperparam_space_xgb = {\n",
    "    'model__max_depth': max_depth, \n",
    "    'model__learning_rate': learning_rate,\n",
    "    'model__n_estimators': n_estimators,\n",
    "    'model__subsample': subsample,\n",
    "    'model__gamma': gamma,\n",
    "    'model__colsample_bytree': colsample_bytree,\n",
    "    'model__reg_alpha': reg_alpha,\n",
    "    'model__reg_lambda': reg_lambda\n",
    "}"
   ]
  },
  {
   "cell_type": "code",
   "execution_count": 47,
   "id": "7b4c913d",
   "metadata": {},
   "outputs": [],
   "source": [
    "# Benchmark model dengan hyperparameter tuning\n",
    "xgb = XGBRegressor(random_state=2009, verbosity=0)\n",
    "\n",
    "# Membuat algorithm chains\n",
    "estimatorXGB = Pipeline([\n",
    "        ('preprocessing', transformer),\n",
    "        ('scaler', scaler),\n",
    "        ('model', xgb)\n",
    "        ])\n",
    "\n",
    "crossval = KFold(n_splits=5, shuffle=True, random_state=1)\n",
    "\n",
    "# Hyperparameter tuning\n",
    "randomXGB = RandomizedSearchCV(\n",
    "    estimatorXGB, \n",
    "    param_distributions = hyperparam_space_xgb,\n",
    "    n_iter = 50,\n",
    "    cv = crossval, \n",
    "    scoring = ['neg_mean_absolute_error', 'neg_mean_absolute_percentage_error', 'neg_root_mean_squared_error'], \n",
    "    n_jobs = -1,\n",
    "    refit = 'neg_root_mean_squared_error', # Hanya bisa memilih salah stau metric untuk optimisasi\n",
    "    random_state = 2009  \n",
    ")"
   ]
  },
  {
   "cell_type": "code",
   "execution_count": 48,
   "id": "831d188b",
   "metadata": {},
   "outputs": [
    {
     "name": "stdout",
     "output_type": "stream",
     "text": [
      "Warning: No categorical columns found. Calling 'transform' will only return input data.\n"
     ]
    },
    {
     "data": {
      "text/plain": [
       "RandomizedSearchCV(cv=KFold(n_splits=5, random_state=1, shuffle=True),\n",
       "                   estimator=Pipeline(steps=[('preprocessing',\n",
       "                                              ColumnTransformer(remainder='passthrough',\n",
       "                                                                transformers=[('One '\n",
       "                                                                               'Hot',\n",
       "                                                                               OneHotEncoder(drop='first',\n",
       "                                                                                             handle_unknown='ignore'),\n",
       "                                                                               ['Season',\n",
       "                                                                                'Weather',\n",
       "                                                                                'Holiday']),\n",
       "                                                                              ('Binary',\n",
       "                                                                               BinaryEncoder(),\n",
       "                                                                               ['Day '\n",
       "                                                                                'Name'])])),\n",
       "                                             ('scaler', StandardScaler()),\n",
       "                                             ('model',\n",
       "                                              XGBReg...\n",
       "                                                              0.2782559402207124,\n",
       "                                                              0.46415888336127786,\n",
       "                                                              0.774263682681127,\n",
       "                                                              1.291549665014884,\n",
       "                                                              2.1544346900318834,\n",
       "                                                              3.593813663804626,\n",
       "                                                              5.994842503189409,\n",
       "                                                              10.0],\n",
       "                                        'model__subsample': [0.1, 0.2, 0.3, 0.4,\n",
       "                                                             0.5, 0.6, 0.7, 0.8,\n",
       "                                                             0.9]},\n",
       "                   random_state=2009, refit='neg_root_mean_squared_error',\n",
       "                   scoring=['neg_mean_absolute_error',\n",
       "                            'neg_mean_absolute_percentage_error',\n",
       "                            'neg_root_mean_squared_error'])"
      ]
     },
     "execution_count": 48,
     "metadata": {},
     "output_type": "execute_result"
    }
   ],
   "source": [
    "# Fitting data training untuk parameter terbaik\n",
    "randomXGB.fit(X_train, y_train)"
   ]
  },
  {
   "cell_type": "code",
   "execution_count": 49,
   "id": "2ce0ca6c",
   "metadata": {},
   "outputs": [
    {
     "data": {
      "text/html": [
       "<div>\n",
       "<style scoped>\n",
       "    .dataframe tbody tr th:only-of-type {\n",
       "        vertical-align: middle;\n",
       "    }\n",
       "\n",
       "    .dataframe tbody tr th {\n",
       "        vertical-align: top;\n",
       "    }\n",
       "\n",
       "    .dataframe thead th {\n",
       "        text-align: right;\n",
       "    }\n",
       "</style>\n",
       "<table border=\"1\" class=\"dataframe\">\n",
       "  <thead>\n",
       "    <tr style=\"text-align: right;\">\n",
       "      <th></th>\n",
       "      <th>mean_fit_time</th>\n",
       "      <th>std_fit_time</th>\n",
       "      <th>mean_score_time</th>\n",
       "      <th>std_score_time</th>\n",
       "      <th>param_model__subsample</th>\n",
       "      <th>param_model__reg_lambda</th>\n",
       "      <th>param_model__reg_alpha</th>\n",
       "      <th>param_model__n_estimators</th>\n",
       "      <th>param_model__max_depth</th>\n",
       "      <th>param_model__learning_rate</th>\n",
       "      <th>...</th>\n",
       "      <th>std_test_neg_mean_absolute_percentage_error</th>\n",
       "      <th>rank_test_neg_mean_absolute_percentage_error</th>\n",
       "      <th>split0_test_neg_root_mean_squared_error</th>\n",
       "      <th>split1_test_neg_root_mean_squared_error</th>\n",
       "      <th>split2_test_neg_root_mean_squared_error</th>\n",
       "      <th>split3_test_neg_root_mean_squared_error</th>\n",
       "      <th>split4_test_neg_root_mean_squared_error</th>\n",
       "      <th>mean_test_neg_root_mean_squared_error</th>\n",
       "      <th>std_test_neg_root_mean_squared_error</th>\n",
       "      <th>rank_test_neg_root_mean_squared_error</th>\n",
       "    </tr>\n",
       "  </thead>\n",
       "  <tbody>\n",
       "    <tr>\n",
       "      <th>31</th>\n",
       "      <td>6.957807</td>\n",
       "      <td>0.573625</td>\n",
       "      <td>0.108938</td>\n",
       "      <td>0.021863</td>\n",
       "      <td>0.4</td>\n",
       "      <td>5.994843</td>\n",
       "      <td>0.1</td>\n",
       "      <td>215</td>\n",
       "      <td>15</td>\n",
       "      <td>0.1</td>\n",
       "      <td>...</td>\n",
       "      <td>0.019888</td>\n",
       "      <td>1</td>\n",
       "      <td>-37.701355</td>\n",
       "      <td>-41.291522</td>\n",
       "      <td>-39.249729</td>\n",
       "      <td>-41.948774</td>\n",
       "      <td>-43.106209</td>\n",
       "      <td>-40.659518</td>\n",
       "      <td>1.938357</td>\n",
       "      <td>1</td>\n",
       "    </tr>\n",
       "    <tr>\n",
       "      <th>23</th>\n",
       "      <td>7.593353</td>\n",
       "      <td>0.380922</td>\n",
       "      <td>0.096342</td>\n",
       "      <td>0.013478</td>\n",
       "      <td>0.9</td>\n",
       "      <td>2.154435</td>\n",
       "      <td>10.0</td>\n",
       "      <td>202</td>\n",
       "      <td>15</td>\n",
       "      <td>0.1</td>\n",
       "      <td>...</td>\n",
       "      <td>0.025816</td>\n",
       "      <td>2</td>\n",
       "      <td>-38.091620</td>\n",
       "      <td>-42.562103</td>\n",
       "      <td>-39.926687</td>\n",
       "      <td>-42.807302</td>\n",
       "      <td>-44.818364</td>\n",
       "      <td>-41.641215</td>\n",
       "      <td>2.359716</td>\n",
       "      <td>2</td>\n",
       "    </tr>\n",
       "    <tr>\n",
       "      <th>38</th>\n",
       "      <td>5.834263</td>\n",
       "      <td>0.637956</td>\n",
       "      <td>0.088252</td>\n",
       "      <td>0.033100</td>\n",
       "      <td>0.6</td>\n",
       "      <td>2.154435</td>\n",
       "      <td>1.29155</td>\n",
       "      <td>275</td>\n",
       "      <td>10</td>\n",
       "      <td>0.1</td>\n",
       "      <td>...</td>\n",
       "      <td>0.036988</td>\n",
       "      <td>3</td>\n",
       "      <td>-39.345120</td>\n",
       "      <td>-42.190639</td>\n",
       "      <td>-40.144214</td>\n",
       "      <td>-43.095715</td>\n",
       "      <td>-44.392022</td>\n",
       "      <td>-41.833542</td>\n",
       "      <td>1.860779</td>\n",
       "      <td>3</td>\n",
       "    </tr>\n",
       "    <tr>\n",
       "      <th>49</th>\n",
       "      <td>4.562369</td>\n",
       "      <td>0.041766</td>\n",
       "      <td>0.083950</td>\n",
       "      <td>0.029398</td>\n",
       "      <td>0.7</td>\n",
       "      <td>10.0</td>\n",
       "      <td>0.1</td>\n",
       "      <td>228</td>\n",
       "      <td>15</td>\n",
       "      <td>0.1</td>\n",
       "      <td>...</td>\n",
       "      <td>0.030148</td>\n",
       "      <td>6</td>\n",
       "      <td>-41.672058</td>\n",
       "      <td>-45.501788</td>\n",
       "      <td>-43.322922</td>\n",
       "      <td>-44.342331</td>\n",
       "      <td>-44.954528</td>\n",
       "      <td>-43.958725</td>\n",
       "      <td>1.352990</td>\n",
       "      <td>4</td>\n",
       "    </tr>\n",
       "    <tr>\n",
       "      <th>33</th>\n",
       "      <td>5.272443</td>\n",
       "      <td>0.502084</td>\n",
       "      <td>0.058244</td>\n",
       "      <td>0.006693</td>\n",
       "      <td>0.9</td>\n",
       "      <td>10.0</td>\n",
       "      <td>5.994843</td>\n",
       "      <td>162</td>\n",
       "      <td>14</td>\n",
       "      <td>0.4</td>\n",
       "      <td>...</td>\n",
       "      <td>0.041212</td>\n",
       "      <td>5</td>\n",
       "      <td>-41.845992</td>\n",
       "      <td>-45.118278</td>\n",
       "      <td>-42.489219</td>\n",
       "      <td>-44.270730</td>\n",
       "      <td>-46.849719</td>\n",
       "      <td>-44.114787</td>\n",
       "      <td>1.805606</td>\n",
       "      <td>5</td>\n",
       "    </tr>\n",
       "  </tbody>\n",
       "</table>\n",
       "<p>5 rows × 37 columns</p>\n",
       "</div>"
      ],
      "text/plain": [
       "    mean_fit_time  std_fit_time  mean_score_time  std_score_time  \\\n",
       "31       6.957807      0.573625         0.108938        0.021863   \n",
       "23       7.593353      0.380922         0.096342        0.013478   \n",
       "38       5.834263      0.637956         0.088252        0.033100   \n",
       "49       4.562369      0.041766         0.083950        0.029398   \n",
       "33       5.272443      0.502084         0.058244        0.006693   \n",
       "\n",
       "   param_model__subsample param_model__reg_lambda param_model__reg_alpha  \\\n",
       "31                    0.4                5.994843                    0.1   \n",
       "23                    0.9                2.154435                   10.0   \n",
       "38                    0.6                2.154435                1.29155   \n",
       "49                    0.7                    10.0                    0.1   \n",
       "33                    0.9                    10.0               5.994843   \n",
       "\n",
       "   param_model__n_estimators param_model__max_depth  \\\n",
       "31                       215                     15   \n",
       "23                       202                     15   \n",
       "38                       275                     10   \n",
       "49                       228                     15   \n",
       "33                       162                     14   \n",
       "\n",
       "   param_model__learning_rate  ...  \\\n",
       "31                        0.1  ...   \n",
       "23                        0.1  ...   \n",
       "38                        0.1  ...   \n",
       "49                        0.1  ...   \n",
       "33                        0.4  ...   \n",
       "\n",
       "   std_test_neg_mean_absolute_percentage_error  \\\n",
       "31                                    0.019888   \n",
       "23                                    0.025816   \n",
       "38                                    0.036988   \n",
       "49                                    0.030148   \n",
       "33                                    0.041212   \n",
       "\n",
       "   rank_test_neg_mean_absolute_percentage_error  \\\n",
       "31                                            1   \n",
       "23                                            2   \n",
       "38                                            3   \n",
       "49                                            6   \n",
       "33                                            5   \n",
       "\n",
       "   split0_test_neg_root_mean_squared_error  \\\n",
       "31                              -37.701355   \n",
       "23                              -38.091620   \n",
       "38                              -39.345120   \n",
       "49                              -41.672058   \n",
       "33                              -41.845992   \n",
       "\n",
       "    split1_test_neg_root_mean_squared_error  \\\n",
       "31                               -41.291522   \n",
       "23                               -42.562103   \n",
       "38                               -42.190639   \n",
       "49                               -45.501788   \n",
       "33                               -45.118278   \n",
       "\n",
       "    split2_test_neg_root_mean_squared_error  \\\n",
       "31                               -39.249729   \n",
       "23                               -39.926687   \n",
       "38                               -40.144214   \n",
       "49                               -43.322922   \n",
       "33                               -42.489219   \n",
       "\n",
       "    split3_test_neg_root_mean_squared_error  \\\n",
       "31                               -41.948774   \n",
       "23                               -42.807302   \n",
       "38                               -43.095715   \n",
       "49                               -44.342331   \n",
       "33                               -44.270730   \n",
       "\n",
       "    split4_test_neg_root_mean_squared_error  \\\n",
       "31                               -43.106209   \n",
       "23                               -44.818364   \n",
       "38                               -44.392022   \n",
       "49                               -44.954528   \n",
       "33                               -46.849719   \n",
       "\n",
       "    mean_test_neg_root_mean_squared_error  \\\n",
       "31                             -40.659518   \n",
       "23                             -41.641215   \n",
       "38                             -41.833542   \n",
       "49                             -43.958725   \n",
       "33                             -44.114787   \n",
       "\n",
       "    std_test_neg_root_mean_squared_error  \\\n",
       "31                              1.938357   \n",
       "23                              2.359716   \n",
       "38                              1.860779   \n",
       "49                              1.352990   \n",
       "33                              1.805606   \n",
       "\n",
       "    rank_test_neg_root_mean_squared_error  \n",
       "31                                      1  \n",
       "23                                      2  \n",
       "38                                      3  \n",
       "49                                      4  \n",
       "33                                      5  \n",
       "\n",
       "[5 rows x 37 columns]"
      ]
     },
     "execution_count": 49,
     "metadata": {},
     "output_type": "execute_result"
    }
   ],
   "source": [
    "# Melihat hasil tuning \n",
    "pd.DataFrame(randomXGB.cv_results_).sort_values(by=['rank_test_neg_root_mean_squared_error', 'rank_test_neg_mean_absolute_error', 'rank_test_neg_mean_absolute_percentage_error']).head()"
   ]
  },
  {
   "cell_type": "code",
   "execution_count": 50,
   "id": "4a21db5a",
   "metadata": {},
   "outputs": [
    {
     "name": "stdout",
     "output_type": "stream",
     "text": [
      "XGBoost\n",
      "Best_score: -40.65951776406382\n",
      "Best_params: {'model__subsample': 0.4, 'model__reg_lambda': 5.994842503189409, 'model__reg_alpha': 0.1, 'model__n_estimators': 215, 'model__max_depth': 15, 'model__learning_rate': 0.1, 'model__gamma': 14, 'model__colsample_bytree': 0.8}\n"
     ]
    }
   ],
   "source": [
    "# Cek skor dan params terbaik\n",
    "print('XGBoost')\n",
    "print('Best_score:', randomXGB.best_score_)\n",
    "print('Best_params:', randomXGB.best_params_)"
   ]
  },
  {
   "cell_type": "markdown",
   "id": "4b8c279d",
   "metadata": {},
   "source": [
    "### Prediksi dengan Model yang telah dilakukan Tuning"
   ]
  },
  {
   "cell_type": "code",
   "execution_count": 51,
   "id": "913c2745",
   "metadata": {},
   "outputs": [
    {
     "name": "stdout",
     "output_type": "stream",
     "text": [
      "Warning: No categorical columns found. Calling 'transform' will only return input data.\n"
     ]
    },
    {
     "data": {
      "text/html": [
       "<div>\n",
       "<style scoped>\n",
       "    .dataframe tbody tr th:only-of-type {\n",
       "        vertical-align: middle;\n",
       "    }\n",
       "\n",
       "    .dataframe tbody tr th {\n",
       "        vertical-align: top;\n",
       "    }\n",
       "\n",
       "    .dataframe thead th {\n",
       "        text-align: right;\n",
       "    }\n",
       "</style>\n",
       "<table border=\"1\" class=\"dataframe\">\n",
       "  <thead>\n",
       "    <tr style=\"text-align: right;\">\n",
       "      <th></th>\n",
       "      <th>MAE</th>\n",
       "      <th>MAPE</th>\n",
       "      <th>RMSE</th>\n",
       "    </tr>\n",
       "  </thead>\n",
       "  <tbody>\n",
       "    <tr>\n",
       "      <th>XGB</th>\n",
       "      <td>24.974991</td>\n",
       "      <td>0.435097</td>\n",
       "      <td>39.128779</td>\n",
       "    </tr>\n",
       "  </tbody>\n",
       "</table>\n",
       "</div>"
      ],
      "text/plain": [
       "           MAE      MAPE       RMSE\n",
       "XGB  24.974991  0.435097  39.128779"
      ]
     },
     "execution_count": 51,
     "metadata": {},
     "output_type": "execute_result"
    }
   ],
   "source": [
    "# Model XGBoost\n",
    "model = {'XGB': XGBRegressor(random_state=2009)}\n",
    "\n",
    "# Define model terhadap estimator terbaik\n",
    "xgbTuning = randomXGB.best_estimator_\n",
    "\n",
    "# Fitting model\n",
    "xgbTuning.fit(X_train, y_train)\n",
    "\n",
    "# Predict test set\n",
    "y_pred_xgb_tuning = xgbTuning.predict(X_test)\n",
    "\n",
    "# Simpan nilai metrics MAE & MAPE setelah tuning\n",
    "maeXGBTuning = mean_absolute_error(y_test, y_pred_xgb_tuning)\n",
    "mapeXGBTuning = mean_absolute_percentage_error(y_test, y_pred_xgb_tuning)\n",
    "rmseXGBTuning = np.sqrt(mean_squared_error(y_test, y_pred_xgb_tuning))\n",
    "\n",
    "scoreSetelah = pd.DataFrame({'MAE': maeXGBTuning, 'MAPE': mapeXGBTuning, 'RMSE': rmseXGBTuning}, index=model.keys())\n",
    "scoreSetelah"
   ]
  },
  {
   "cell_type": "markdown",
   "id": "019bac77",
   "metadata": {},
   "source": [
    "### Perbandingan Performa"
   ]
  },
  {
   "cell_type": "code",
   "execution_count": 52,
   "id": "b0a5829f",
   "metadata": {},
   "outputs": [
    {
     "data": {
      "text/html": [
       "<div>\n",
       "<style scoped>\n",
       "    .dataframe tbody tr th:only-of-type {\n",
       "        vertical-align: middle;\n",
       "    }\n",
       "\n",
       "    .dataframe tbody tr th {\n",
       "        vertical-align: top;\n",
       "    }\n",
       "\n",
       "    .dataframe thead th {\n",
       "        text-align: right;\n",
       "    }\n",
       "</style>\n",
       "<table border=\"1\" class=\"dataframe\">\n",
       "  <thead>\n",
       "    <tr style=\"text-align: right;\">\n",
       "      <th></th>\n",
       "      <th>MAE</th>\n",
       "      <th>MAPE</th>\n",
       "      <th>RMSE</th>\n",
       "    </tr>\n",
       "  </thead>\n",
       "  <tbody>\n",
       "    <tr>\n",
       "      <th>XGB</th>\n",
       "      <td>25.660473</td>\n",
       "      <td>0.417682</td>\n",
       "      <td>40.253471</td>\n",
       "    </tr>\n",
       "  </tbody>\n",
       "</table>\n",
       "</div>"
      ],
      "text/plain": [
       "           MAE      MAPE       RMSE\n",
       "XGB  25.660473  0.417682  40.253471"
      ]
     },
     "execution_count": 52,
     "metadata": {},
     "output_type": "execute_result"
    }
   ],
   "source": [
    "# Sebelum hyperparameter tuning\n",
    "pd.DataFrame(scoreSebelum.loc['XGB']).T"
   ]
  },
  {
   "cell_type": "code",
   "execution_count": 53,
   "id": "28d824df",
   "metadata": {},
   "outputs": [
    {
     "data": {
      "text/html": [
       "<div>\n",
       "<style scoped>\n",
       "    .dataframe tbody tr th:only-of-type {\n",
       "        vertical-align: middle;\n",
       "    }\n",
       "\n",
       "    .dataframe tbody tr th {\n",
       "        vertical-align: top;\n",
       "    }\n",
       "\n",
       "    .dataframe thead th {\n",
       "        text-align: right;\n",
       "    }\n",
       "</style>\n",
       "<table border=\"1\" class=\"dataframe\">\n",
       "  <thead>\n",
       "    <tr style=\"text-align: right;\">\n",
       "      <th></th>\n",
       "      <th>MAE</th>\n",
       "      <th>MAPE</th>\n",
       "      <th>RMSE</th>\n",
       "    </tr>\n",
       "  </thead>\n",
       "  <tbody>\n",
       "    <tr>\n",
       "      <th>XGB</th>\n",
       "      <td>24.974991</td>\n",
       "      <td>0.435097</td>\n",
       "      <td>39.128779</td>\n",
       "    </tr>\n",
       "  </tbody>\n",
       "</table>\n",
       "</div>"
      ],
      "text/plain": [
       "           MAE      MAPE       RMSE\n",
       "XGB  24.974991  0.435097  39.128779"
      ]
     },
     "execution_count": 53,
     "metadata": {},
     "output_type": "execute_result"
    }
   ],
   "source": [
    "# Setelah hyperparameter tuning\n",
    "pd.DataFrame(scoreSetelah.loc['XGB']).T"
   ]
  },
  {
   "cell_type": "markdown",
   "id": "c1183c74",
   "metadata": {},
   "source": [
    "Adanya peningkatan performa setelah dilakukan Hyperparameter Tuning"
   ]
  },
  {
   "cell_type": "code",
   "execution_count": 54,
   "id": "be3b325c",
   "metadata": {},
   "outputs": [
    {
     "data": {
      "image/png": "[encoded data removed]",
      "text/plain": [
       "<Figure size 1080x720 with 1 Axes>"
      ]
     },
     "metadata": {
      "needs_background": "light"
     },
     "output_type": "display_data"
    }
   ],
   "source": [
    "plt.figure(figsize=(15, 10))\n",
    "plot = sns.scatterplot(x=y_test, y=y_pred_xgb_tuning).set(title='Actual vs. Prediction Count', \n",
    "                                               xlabel='Actual Count', \n",
    "                                               ylabel='Predicted Count');"
   ]
  },
  {
   "cell_type": "markdown",
   "id": "d9008de1",
   "metadata": {},
   "source": [
    "### Feature Importance "
   ]
  },
  {
   "cell_type": "code",
   "execution_count": 55,
   "id": "78d7ae87",
   "metadata": {},
   "outputs": [
    {
     "data": {
      "text/plain": [
       "['One Hot__x0_2',\n",
       " 'One Hot__x0_3',\n",
       " 'One Hot__x0_4',\n",
       " 'One Hot__x1_2',\n",
       " 'One Hot__x1_3',\n",
       " 'One Hot__x1_4',\n",
       " 'One Hot__x2_1',\n",
       " 'Binary__Day Name',\n",
       " 'Humidity',\n",
       " 'Temperature',\n",
       " 'Hour',\n",
       " 'Month',\n",
       " 'Year']"
      ]
     },
     "execution_count": 55,
     "metadata": {},
     "output_type": "execute_result"
    }
   ],
   "source": [
    "transformer.get_feature_names()"
   ]
  },
  {
   "cell_type": "code",
   "execution_count": 56,
   "id": "f6f71d1e",
   "metadata": {},
   "outputs": [
    {
     "data": {
      "image/png": "[encoded data removed]",
      "text/plain": [
       "<Figure size 432x288 with 1 Axes>"
      ]
     },
     "metadata": {
      "needs_background": "light"
     },
     "output_type": "display_data"
    }
   ],
   "source": [
    "# Plot feature importances\n",
    "feature_imp = pd.Series(xgbTuning['model'].feature_importances_, transformer.get_feature_names()).sort_values(ascending = False)\n",
    "feature_imp.plot(kind='barh', title='Feature Importances');"
   ]
  },
  {
   "cell_type": "markdown",
   "id": "fb9c3bd1",
   "metadata": {},
   "source": [
    "## Kesimpulan"
   ]
  },
  {
   "cell_type": "markdown",
   "id": "50425f9d",
   "metadata": {},
   "source": [
    "Dari hasil pemodelan yang telah dilakukan, dapat disimpulkan bahwa fitur yang paling berpengaruh terhadap jumlah penyewaan sepeda ('Count') adalah 'Hour'. Evaluasi model menggunakan tiga matriks, yaitu RMSE, MAE, dan MAPE. Setelah dilakukan hyperparameter tuning, didapatkan nilai RMSE sebesar 39,12. Oleh karena itu, dapat disimpulkan bahwa model dapat memperkirakan jumlah penyewa sepeda dengan meleset sekitar 39 orang dari jumlah aktualnya jika digunakan untuk memperkirakan jumlah penyewaan pada rentang nilai maksimum sebesar 645. Meskipun demikian, masih terdapat bias pada data prediksi dan aktual karena fitur pada dataset masih kurang untuk merepresentasikan keadaan dimana orang akan memutuskan untuk menyewa sepeda, seperti lokasi stasiun, adanya event tertentu, dan lain-lain."
   ]
  },
  {
   "cell_type": "markdown",
   "id": "d46ab15f",
   "metadata": {},
   "source": [
    "## Rekomendasi dan Saran"
   ]
  },
  {
   "cell_type": "markdown",
   "id": "73d49892",
   "metadata": {},
   "source": [
    "Berikut merupakan beberapa poin yang dapat dilakukan untuk pengembangan model yang lebih baik:\n",
    "\n",
    "   1. Mengumpulkan lebih banyak data dapat membantu meningkatkan model, terutama jika data yang dikumpulkan lebih dari dua tahun. Dengan menggunakan data ini, keterkaitan tahun dengan Count dapat dipelajari lebih detail. Selain itu, model yang lebih kompleks dapat digunakan untuk pemodelan untuk membandingkan dan menemukan model dengan kesalahan paling kecil.\n",
    "    \n",
    "   2. Penambahan fitur baru seperti fitur \"Hour\" yang merupakan fitur paling berpengaruh terhadap \"Count\". Selain itu, penambahan fitur baru seperti lokasi station dan faktor-faktor lain yang mempengaruhi keputusan orang untuk menyewa sepeda dapat meningkatkan akurasi prediksi.\n",
    "\n",
    "   3. Selain itu, model yang telah dibangun dapat digunakan untuk pengembangan lain, seperti pembuatan model untuk memprediksi harga rental atau jumlah sepeda yang masuk atau keluar dari stasiun tertentu. Analisis lokasi stasiun strategis dapat membantu dalam membuat pertimbangan untuk membuka stasiun baru di lokasi serupa.\n",
    "\n"
   ]
  },
  {
   "cell_type": "markdown",
   "id": "e5f01611",
   "metadata": {},
   "source": [
    "## Save Model"
   ]
  },
  {
   "cell_type": "code",
   "execution_count": 58,
   "id": "279d8f2f",
   "metadata": {},
   "outputs": [
    {
     "name": "stdout",
     "output_type": "stream",
     "text": [
      "Warning: No categorical columns found. Calling 'transform' will only return input data.\n"
     ]
    }
   ],
   "source": [
    "# Save model\n",
    "\n",
    "# import pickle\n",
    "# finalModel = randomXGB.best_estimator_.fit(X_train, y_train)\n",
    "# pickle.dump(finalModel, open('ModelXGBBikeSharing.sav', 'wb'))"
   ]
  },
  {
   "cell_type": "code",
   "execution_count": 59,
   "id": "eebb8f40",
   "metadata": {},
   "outputs": [],
   "source": [
    "# Load model\n",
    "\n",
    "# filename = 'ModelXGBBikeSharing.sav'\n",
    "# loaded_model = pickle.load(open(filename, 'rb'))"
   ]
  },
  {
   "cell_type": "code",
   "execution_count": 60,
   "id": "410b6f1b",
   "metadata": {},
   "outputs": [
    {
     "data": {
      "text/plain": [
       "39.12877918888594"
      ]
     },
     "execution_count": 60,
     "metadata": {},
     "output_type": "execute_result"
    }
   ],
   "source": [
    "# np.sqrt(mean_squared_error(y_test, loaded_model.predict(X_test)))"
   ]
  }
 ],
 "metadata": {
  "kernelspec": {
   "display_name": "Python 3 (ipykernel)",
   "language": "python",
   "name": "python3"
  },
  "language_info": {
   "codemirror_mode": {
    "name": "ipython",
    "version": 3
   },
   "file_extension": ".py",
   "mimetype": "text/x-python",
   "name": "python",
   "nbconvert_exporter": "python",
   "pygments_lexer": "ipython3",
   "version": "3.9.12"
  }
 },
 "nbformat": 4,
 "nbformat_minor": 5
}
